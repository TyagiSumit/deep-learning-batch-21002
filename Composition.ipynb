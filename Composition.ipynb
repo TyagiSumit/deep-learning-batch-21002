{
 "cells": [
  {
   "cell_type": "code",
   "execution_count": 1,
   "metadata": {},
   "outputs": [],
   "source": [
    "# _____ is a ______ relationship is inheritance\n",
    "\n",
    "# _____ has a ______ relationship is Composition\n",
    "\n",
    "# pratik's example was:\n",
    "# Captain america has a shield \n",
    "# Captain america owns a shield ( association )"
   ]
  },
  {
   "cell_type": "code",
   "execution_count": 3,
   "metadata": {},
   "outputs": [
    {
     "name": "stdout",
     "output_type": "stream",
     "text": [
      "myattr:  composer value\n"
     ]
    }
   ],
   "source": [
    "class Composer:\n",
    "    \n",
    "    def __init__(self):\n",
    "        self.myattr = \"composer value\"\n",
    "    \n",
    "    \n",
    "    \n",
    "class any_class:\n",
    "    \n",
    "    def __init__(self):\n",
    "        self.comp = Composer()\n",
    "        \n",
    "\n",
    "    \n",
    "inst = any_class()\n",
    "\n",
    "print(\"myattr: \", inst.comp.myattr)"
   ]
  },
  {
   "cell_type": "code",
   "execution_count": 24,
   "metadata": {},
   "outputs": [],
   "source": [
    "class Star:\n",
    "    \n",
    "   # whoim = 2\n",
    "    \n",
    "    def __init__(self):\n",
    "        self.whoim = \"I'm a star!\"\n",
    "        \n",
    "        \n",
    "class Galaxy:\n",
    "    \n",
    "    def __init__(self):\n",
    "        self.whoim = \"I'm a Galaxy\"\n",
    "        \n",
    "class anyclass:\n",
    "    \n",
    "    def __init__(self, composer):\n",
    "        self.comp = composer()\n",
    "        \n",
    "inst1 = anyclass(Star)\n",
    "\n",
    "inst2 = anyclass(Galaxy)"
   ]
  },
  {
   "cell_type": "code",
   "execution_count": 25,
   "metadata": {},
   "outputs": [
    {
     "data": {
      "text/plain": [
       "\"I'm a Galaxy\""
      ]
     },
     "execution_count": 25,
     "metadata": {},
     "output_type": "execute_result"
    }
   ],
   "source": [
    "inst1.comp.whoim\n",
    "inst2.comp.whoim"
   ]
  },
  {
   "cell_type": "code",
   "execution_count": 23,
   "metadata": {},
   "outputs": [],
   "source": [
    "class Star:\n",
    "    \n",
    "   # whoim = 2\n",
    "    \n",
    "    def __init__(self):\n",
    "        self.whoim = \"I'm a star!\"\n",
    "        \n",
    "        \n",
    "class Galaxy:\n",
    "    \n",
    "    def __init__(self):\n",
    "        self.whoim = \"I'm a Galaxy\"\n",
    "        \n",
    "class anyclass:\n",
    "    \n",
    "    def __init__(self, composer):\n",
    "        self.whoim = composer().whoim\n",
    "        \n",
    "inst1 = anyclass(Star)\n",
    "\n",
    "inst2 = anyclass(Galaxy)"
   ]
  },
  {
   "cell_type": "code",
   "execution_count": null,
   "metadata": {},
   "outputs": [],
   "source": [
    "inst1.whoim\n",
    "inst2.whoim"
   ]
  },
  {
   "cell_type": "code",
   "execution_count": 41,
   "metadata": {},
   "outputs": [
    {
     "name": "stdout",
     "output_type": "stream",
     "text": [
      "Mode of shifting None\n",
      "I travel by roads!!\n"
     ]
    }
   ],
   "source": [
    "class Transport:\n",
    "    medium=None\n",
    "    def __init__(self):\n",
    "        self.val=\"Mode of shifting \" + str(self.medium)\n",
    "        \n",
    "\n",
    "class Cars:\n",
    "    \n",
    "    val = \"I travel by roads!!\"\n",
    "    def __init__(self):\n",
    "        self.val=\"I travel by roads\"\n",
    "\n",
    "class Plains:\n",
    "#     def __init__(self):\n",
    "#         #self.pval=Transport()\n",
    "#         pass\n",
    "    def setTransportMedium(self,medium):\n",
    "        Transport.val=\"Air\"\n",
    "        #Cars.val = \"hello\"\n",
    "        print(Transport().val)\n",
    "        print(Cars.val)\n",
    "        \n",
    "P= Plains()\n",
    "P.setTransportMedium(\" Air\")"
   ]
  },
  {
   "cell_type": "code",
   "execution_count": 36,
   "metadata": {},
   "outputs": [
    {
     "data": {
      "text/plain": [
       "2"
      ]
     },
     "execution_count": 36,
     "metadata": {},
     "output_type": "execute_result"
    }
   ],
   "source": [
    "class School:\n",
    "    x = 2\n",
    "    def fun(self):\n",
    "        x = None\n",
    "        \n",
    "School.x"
   ]
  },
  {
   "cell_type": "markdown",
   "metadata": {},
   "source": [
    "# Abstract"
   ]
  },
  {
   "cell_type": "code",
   "execution_count": 42,
   "metadata": {},
   "outputs": [],
   "source": [
    "from abc import ABC, abstractmethod"
   ]
  },
  {
   "cell_type": "code",
   "execution_count": null,
   "metadata": {},
   "outputs": [],
   "source": [
    "class Parent(ABC):\n",
    "    \n",
    "    @abstractmethod\n",
    "    def get_id(self):\n",
    "        pass"
   ]
  }
 ],
 "metadata": {
  "kernelspec": {
   "display_name": "Python 3",
   "language": "python",
   "name": "python3"
  },
  "language_info": {
   "codemirror_mode": {
    "name": "ipython",
    "version": 3
   },
   "file_extension": ".py",
   "mimetype": "text/x-python",
   "name": "python",
   "nbconvert_exporter": "python",
   "pygments_lexer": "ipython3",
   "version": "3.7.4"
  }
 },
 "nbformat": 4,
 "nbformat_minor": 2
}
