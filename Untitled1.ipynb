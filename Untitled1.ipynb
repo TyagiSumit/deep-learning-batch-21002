{
 "cells": [
  {
   "cell_type": "code",
   "execution_count": 10,
   "metadata": {},
   "outputs": [
    {
     "name": "stdout",
     "output_type": "stream",
     "text": [
      "fish\n",
      "dodo\n"
     ]
    }
   ],
   "source": [
    "# instance vs class\n",
    "\n",
    "class Shark:\n",
    "    animal_type = 'fish'\n",
    "    location = 'ocean'\n",
    "    \n",
    "    def __init__(self, name, age):\n",
    "        self.name = name\n",
    "        self.age = age\n",
    "    \n",
    "baby_shark = Shark(\"dodo\", 5)\n",
    "mama_shark = Shark('dodo', 5)\n",
    "print(baby_shark.animal_type)\n",
    "print(baby_shark.name)"
   ]
  },
  {
   "cell_type": "code",
   "execution_count": 11,
   "metadata": {},
   "outputs": [
    {
     "name": "stdout",
     "output_type": "stream",
     "text": [
      "fish\n",
      "dodo\n"
     ]
    }
   ],
   "source": [
    "print(mama_shark.animal_type)\n",
    "print(mama_shark.name)"
   ]
  },
  {
   "cell_type": "code",
   "execution_count": 12,
   "metadata": {},
   "outputs": [
    {
     "data": {
      "text/plain": [
       "False"
      ]
     },
     "execution_count": 12,
     "metadata": {},
     "output_type": "execute_result"
    }
   ],
   "source": [
    "# compare two objects\n",
    "\n",
    "mama_shark == baby_shark"
   ]
  },
  {
   "cell_type": "code",
   "execution_count": 35,
   "metadata": {},
   "outputs": [
    {
     "data": {
      "text/plain": [
       "(2, 3)"
      ]
     },
     "execution_count": 35,
     "metadata": {},
     "output_type": "execute_result"
    }
   ],
   "source": [
    "# static methods\n",
    "\n",
    "class staticcalculator:\n",
    "    \n",
    "    a = 10\n",
    "    x = None\n",
    "    y = None\n",
    "\n",
    "    @staticmethod\n",
    "    def add(self, x, y):\n",
    "        return x+y\n",
    "    \n",
    "    @classmethod\n",
    "    def substract(cls, xx, yy):\n",
    "        cls.x = xx\n",
    "        cls.y = yy\n",
    "    \n",
    "\n",
    "    def mulitply(self, x, y):\n",
    "        return x * y\n",
    "    \n",
    "    def square(self, x, y):†\n",
    "        self.multiply(x, y)\n",
    "\n",
    "\n",
    "staticcalculator.substract(2,3)\n",
    "\n",
    "staticcalculator.x, staticcalculator.y\n"
   ]
  },
  {
   "cell_type": "code",
   "execution_count": 37,
   "metadata": {},
   "outputs": [
    {
     "name": "stdout",
     "output_type": "stream",
     "text": [
      "{'__module__': '__main__', 'add': <staticmethod object at 0x7fa7df4fa490>, '__dict__': <attribute '__dict__' of 'Parent' objects>, '__weakref__': <attribute '__weakref__' of 'Parent' objects>, '__doc__': None}\n"
     ]
    }
   ],
   "source": [
    "# defining parent class\n",
    "class Parent:\n",
    "    \n",
    "    @staticmethod\n",
    "    def add(a, b):\n",
    "        return a+ b\n",
    "    "
   ]
  },
  {
   "cell_type": "code",
   "execution_count": 43,
   "metadata": {},
   "outputs": [],
   "source": [
    "# define child class\n",
    "\n",
    "class Child(Parent):\n",
    "    \n",
    "    @staticmethod\n",
    "    def subtract(a, b):\n",
    "        return a - b"
   ]
  },
  {
   "cell_type": "code",
   "execution_count": 44,
   "metadata": {},
   "outputs": [
    {
     "data": {
      "text/plain": [
       "1"
      ]
     },
     "execution_count": 44,
     "metadata": {},
     "output_type": "execute_result"
    }
   ],
   "source": [
    "Child.subtract(3, 2)"
   ]
  },
  {
   "cell_type": "code",
   "execution_count": 45,
   "metadata": {},
   "outputs": [
    {
     "data": {
      "text/plain": [
       "5"
      ]
     },
     "execution_count": 45,
     "metadata": {},
     "output_type": "execute_result"
    }
   ],
   "source": [
    "Child.add(3, 2)"
   ]
  },
  {
   "cell_type": "code",
   "execution_count": 49,
   "metadata": {},
   "outputs": [],
   "source": [
    "# defining parent class\n",
    "class Parent:\n",
    "    x = 2\n",
    "    \n",
    "    \n",
    "# define child class\n",
    "\n",
    "class Child(Parent):\n",
    "    \n",
    "    @classmethod\n",
    "    def show(cls):\n",
    "        print(cls.x)"
   ]
  },
  {
   "cell_type": "code",
   "execution_count": 48,
   "metadata": {},
   "outputs": [
    {
     "name": "stdout",
     "output_type": "stream",
     "text": [
      "1\n"
     ]
    }
   ],
   "source": [
    "Child.show()"
   ]
  },
  {
   "cell_type": "code",
   "execution_count": 52,
   "metadata": {},
   "outputs": [
    {
     "name": "stdout",
     "output_type": "stream",
     "text": [
      "0\n"
     ]
    }
   ],
   "source": [
    "# overriding\n",
    "\n",
    "\n",
    "class GrandParent:\n",
    "    x = 0\n",
    "\n",
    "class Parent(GrandParent):\n",
    "    y = 2\n",
    "    \n",
    "    \n",
    "# define child class\n",
    "\n",
    "class Child(Parent):\n",
    "    \n",
    "    z = 1\n",
    "    \n",
    "    @classmethod\n",
    "    def show(cls):\n",
    "        print(cls.x)\n",
    "        \n",
    "Child.show()     "
   ]
  },
  {
   "cell_type": "code",
   "execution_count": 56,
   "metadata": {},
   "outputs": [
    {
     "name": "stdout",
     "output_type": "stream",
     "text": [
      "init of parent\n",
      "Attr value\n"
     ]
    }
   ],
   "source": [
    "# instantiation\n",
    "\n",
    "class Parent:\n",
    "    \n",
    "    def __init__(self, value):\n",
    "        print(\"init of parent\")\n",
    "        self.attr = value\n",
    "    \n",
    "    \n",
    "# define child class\n",
    "\n",
    "class Child(Parent):\n",
    "    \n",
    "    def show(self):\n",
    "        print(self.attr)\n",
    "        \n",
    "        \n",
    "Child(\"Attr value\").show()"
   ]
  },
  {
   "cell_type": "code",
   "execution_count": 57,
   "metadata": {},
   "outputs": [
    {
     "name": "stdout",
     "output_type": "stream",
     "text": [
      "init of child\n",
      "Attr value\n"
     ]
    }
   ],
   "source": [
    "# instantiation\n",
    "\n",
    "class Parent:\n",
    "    def show(self):\n",
    "        print(self.attr)\n",
    "    \n",
    "    \n",
    "# define child class\n",
    "\n",
    "class Child(Parent):\n",
    "\n",
    "    def __init__(self, value):\n",
    "        print(\"init of child\")\n",
    "        self.attr = value\n",
    "\n",
    "        \n",
    "        \n",
    "Child(\"Attr value\").show()"
   ]
  },
  {
   "cell_type": "code",
   "execution_count": 59,
   "metadata": {},
   "outputs": [
    {
     "name": "stdout",
     "output_type": "stream",
     "text": [
      "init of child\n",
      "Attr value\n"
     ]
    }
   ],
   "source": [
    "# instantiation\n",
    "\n",
    "class Parent:\n",
    "    \n",
    "\n",
    "    def __init__(self, value):\n",
    "        print(\"init of parent\")\n",
    "        self.attr = value\n",
    "        \n",
    "    def show(self):\n",
    "        print(self.attr)\n",
    "    \n",
    "    \n",
    "# define child class\n",
    "\n",
    "class Child(Parent):\n",
    "\n",
    "    def __init__(self, value):\n",
    "        print(\"init of child\")\n",
    "        self.attr = value\n",
    "\n",
    "        \n",
    "        \n",
    "Child(\"Attr value\").show()"
   ]
  },
  {
   "cell_type": "code",
   "execution_count": 65,
   "metadata": {},
   "outputs": [
    {
     "name": "stdout",
     "output_type": "stream",
     "text": [
      "init of child\n",
      "init of parent\n"
     ]
    },
    {
     "data": {
      "text/plain": [
       "<__main__.Child at 0x7fa7df871cd0>"
      ]
     },
     "execution_count": 65,
     "metadata": {},
     "output_type": "execute_result"
    }
   ],
   "source": [
    "# instantiation\n",
    "\n",
    "class Parent:\n",
    "    \n",
    "\n",
    "    def __init__(self):\n",
    "        print(\"init of parent\")\n",
    "        \n",
    "    \n",
    "    \n",
    "# define child class\n",
    "\n",
    "class Child(Parent):\n",
    "\n",
    "    def __init__(self, value):\n",
    "        print(\"init of child\")\n",
    "        self.attr = value\n",
    "        \n",
    "        super().__init__()\n",
    "\n",
    "        \n",
    "        \n",
    "Child(\"Attr value\")"
   ]
  },
  {
   "cell_type": "code",
   "execution_count": 75,
   "metadata": {},
   "outputs": [
    {
     "data": {
      "text/plain": [
       "__main__.Child"
      ]
     },
     "execution_count": 75,
     "metadata": {},
     "output_type": "execute_result"
    }
   ],
   "source": [
    "class Father:\n",
    "    \n",
    "\n",
    "    def __init__(self, val):\n",
    "        print(\"init of Father\")\n",
    "        self.fval = val\n",
    "        \n",
    "        \n",
    "class Mother:\n",
    "    \n",
    "\n",
    "    def __init__(self, val):\n",
    "        print(\"init of Mother\")\n",
    "        self.mval = val\n",
    "    \n",
    "# define child class\n",
    "\n",
    "class Child(Father, Mother):\n",
    "\n",
    "    def __init__(self, value):\n",
    "        print(\"init of child\")\n",
    "        self.attr = value\n",
    "        \n",
    "        Mother.__init__(self, 1)\n",
    "        Father.__init__(self, 2)\n",
    "\n",
    "        \n",
    "        \n",
    "Child"
   ]
  },
  {
   "cell_type": "code",
   "execution_count": null,
   "metadata": {},
   "outputs": [],
   "source": []
  }
 ],
 "metadata": {
  "kernelspec": {
   "display_name": "Python 3",
   "language": "python",
   "name": "python3"
  },
  "language_info": {
   "codemirror_mode": {
    "name": "ipython",
    "version": 3
   },
   "file_extension": ".py",
   "mimetype": "text/x-python",
   "name": "python",
   "nbconvert_exporter": "python",
   "pygments_lexer": "ipython3",
   "version": "3.7.4"
  }
 },
 "nbformat": 4,
 "nbformat_minor": 2
}
