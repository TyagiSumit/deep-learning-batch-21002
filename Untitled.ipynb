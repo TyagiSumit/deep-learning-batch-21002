{
 "cells": [
  {
   "cell_type": "code",
   "execution_count": 1,
   "metadata": {},
   "outputs": [],
   "source": [
    "a = 1"
   ]
  },
  {
   "cell_type": "code",
   "execution_count": 4,
   "metadata": {},
   "outputs": [],
   "source": [
    "b = 2\n",
    "b = b + a"
   ]
  },
  {
   "cell_type": "code",
   "execution_count": 5,
   "metadata": {},
   "outputs": [
    {
     "name": "stdout",
     "output_type": "stream",
     "text": [
      "1 3\n"
     ]
    }
   ],
   "source": [
    "print(a, b)"
   ]
  },
  {
   "cell_type": "code",
   "execution_count": 6,
   "metadata": {},
   "outputs": [
    {
     "data": {
      "text/plain": [
       "(1, 2)"
      ]
     },
     "execution_count": 6,
     "metadata": {},
     "output_type": "execute_result"
    }
   ],
   "source": [
    "1,2"
   ]
  },
  {
   "cell_type": "code",
   "execution_count": 41,
   "metadata": {},
   "outputs": [
    {
     "name": "stdout",
     "output_type": "stream",
     "text": [
      "Please enter your age: \n",
      "asdf\n"
     ]
    },
    {
     "ename": "ValueError",
     "evalue": "invalid literal for int() with base 10: 'asdf'",
     "output_type": "error",
     "traceback": [
      "\u001b[0;31m---------------------------------------------------------------------------\u001b[0m",
      "\u001b[0;31mValueError\u001b[0m                                Traceback (most recent call last)",
      "\u001b[0;32m<ipython-input-41-a48edbc9d4bd>\u001b[0m in \u001b[0;36m<module>\u001b[0;34m\u001b[0m\n\u001b[1;32m      2\u001b[0m \u001b[0;34m\u001b[0m\u001b[0m\n\u001b[1;32m      3\u001b[0m \u001b[0;31m# hey this like actually takes input and convert it into integer\u001b[0m\u001b[0;34m\u001b[0m\u001b[0;34m\u001b[0m\u001b[0;34m\u001b[0m\u001b[0m\n\u001b[0;32m----> 4\u001b[0;31m \u001b[0mage\u001b[0m \u001b[0;34m=\u001b[0m \u001b[0mint\u001b[0m\u001b[0;34m(\u001b[0m\u001b[0minput\u001b[0m\u001b[0;34m(\u001b[0m\u001b[0;34m)\u001b[0m\u001b[0;34m)\u001b[0m\u001b[0;34m\u001b[0m\u001b[0;34m\u001b[0m\u001b[0m\n\u001b[0m\u001b[1;32m      5\u001b[0m \u001b[0mage\u001b[0m \u001b[0;34m=\u001b[0m \u001b[0mint\u001b[0m\u001b[0;34m(\u001b[0m\u001b[0mage\u001b[0m\u001b[0;34m)\u001b[0m\u001b[0;34m\u001b[0m\u001b[0;34m\u001b[0m\u001b[0m\n\u001b[1;32m      6\u001b[0m \u001b[0;34m\u001b[0m\u001b[0m\n",
      "\u001b[0;31mValueError\u001b[0m: invalid literal for int() with base 10: 'asdf'"
     ]
    }
   ],
   "source": [
    "print(\"Please enter your age: \")\n",
    "\n",
    "# hey this like actually takes input and convert it into integer\n",
    "age = int(input())\n",
    "age = int(age)\n",
    "\n",
    "# now we can show your age\n",
    "print(\"Your age is: \", age)"
   ]
  },
  {
   "cell_type": "code",
   "execution_count": 22,
   "metadata": {},
   "outputs": [
    {
     "data": {
      "text/plain": [
       "True"
      ]
     },
     "execution_count": 22,
     "metadata": {},
     "output_type": "execute_result"
    }
   ],
   "source": [
    "age >= 18"
   ]
  },
  {
   "cell_type": "code",
   "execution_count": 38,
   "metadata": {},
   "outputs": [
    {
     "name": "stdout",
     "output_type": "stream",
     "text": [
      "Enter your name, DOB, and location separted by enter\n",
      "sdfasdf\n",
      "sdfasdf\n"
     ]
    }
   ],
   "source": [
    "print(\"Enter your name, DOB, and location separted by enter\")\n",
    "details = input().split(',')\n",
    "\n",
    "\n",
    "print(*details)"
   ]
  },
  {
   "cell_type": "code",
   "execution_count": 40,
   "metadata": {},
   "outputs": [
    {
     "name": "stdout",
     "output_type": "stream",
     "text": [
      "['sdfasdf']\n"
     ]
    }
   ],
   "source": [
    "print(details)"
   ]
  },
  {
   "cell_type": "code",
   "execution_count": 29,
   "metadata": {},
   "outputs": [
    {
     "data": {
      "text/plain": [
       "'800001232'"
      ]
     },
     "execution_count": 29,
     "metadata": {},
     "output_type": "execute_result"
    }
   ],
   "source": [
    "y"
   ]
  },
  {
   "cell_type": "code",
   "execution_count": 3,
   "metadata": {},
   "outputs": [
    {
     "name": "stdout",
     "output_type": "stream",
     "text": [
      "I want \n",
      "a new line\n"
     ]
    }
   ],
   "source": [
    "print(\"I want \\na new line\")"
   ]
  },
  {
   "cell_type": "code",
   "execution_count": 12,
   "metadata": {},
   "outputs": [],
   "source": [
    "a = 1"
   ]
  },
  {
   "cell_type": "code",
   "execution_count": 9,
   "metadata": {},
   "outputs": [],
   "source": [
    "# string manipulations operations"
   ]
  },
  {
   "cell_type": "code",
   "execution_count": 19,
   "metadata": {},
   "outputs": [],
   "source": [
    "email = \"RatNayash_PanDey@gmail.com\""
   ]
  },
  {
   "cell_type": "code",
   "execution_count": 40,
   "metadata": {},
   "outputs": [
    {
     "data": {
      "text/plain": [
       "'ratnayash_pandey@gmail.com'"
      ]
     },
     "execution_count": 40,
     "metadata": {},
     "output_type": "execute_result"
    }
   ],
   "source": [
    "email.lower()\n",
    "# print(email.upper())\n",
    "# print(email.title())"
   ]
  },
  {
   "cell_type": "code",
   "execution_count": 25,
   "metadata": {},
   "outputs": [
    {
     "data": {
      "text/plain": [
       "['RatNayash_PanDey', 'gmail.com']"
      ]
     },
     "execution_count": 25,
     "metadata": {},
     "output_type": "execute_result"
    }
   ],
   "source": [
    "email.split('@')"
   ]
  },
  {
   "cell_type": "code",
   "execution_count": 30,
   "metadata": {
    "scrolled": true
   },
   "outputs": [
    {
     "name": "stdout",
     "output_type": "stream",
     "text": [
      "garimagarimagarimagarimagarimagarimagarimagarimagarimagarima\n"
     ]
    }
   ],
   "source": [
    "print(10 * \"garima\")"
   ]
  },
  {
   "cell_type": "code",
   "execution_count": 39,
   "metadata": {},
   "outputs": [
    {
     "data": {
      "text/plain": [
       "5"
      ]
     },
     "execution_count": 39,
     "metadata": {},
     "output_type": "execute_result"
    }
   ],
   "source": [
    "1+1\n",
    "3+2"
   ]
  },
  {
   "cell_type": "code",
   "execution_count": 32,
   "metadata": {
    "scrolled": true
   },
   "outputs": [
    {
     "data": {
      "text/plain": [
       "127.12"
      ]
     },
     "execution_count": 32,
     "metadata": {},
     "output_type": "execute_result"
    }
   ],
   "source": [
    "130.12 - 3"
   ]
  },
  {
   "cell_type": "code",
   "execution_count": 33,
   "metadata": {},
   "outputs": [
    {
     "data": {
      "text/plain": [
       "65.0"
      ]
     },
     "execution_count": 33,
     "metadata": {},
     "output_type": "execute_result"
    }
   ],
   "source": [
    "130/2"
   ]
  },
  {
   "cell_type": "code",
   "execution_count": 34,
   "metadata": {},
   "outputs": [
    {
     "data": {
      "text/plain": [
       "240"
      ]
     },
     "execution_count": 34,
     "metadata": {},
     "output_type": "execute_result"
    }
   ],
   "source": [
    "120*2"
   ]
  },
  {
   "cell_type": "code",
   "execution_count": 35,
   "metadata": {},
   "outputs": [
    {
     "data": {
      "text/plain": [
       "16"
      ]
     },
     "execution_count": 35,
     "metadata": {},
     "output_type": "execute_result"
    }
   ],
   "source": [
    "2**4"
   ]
  },
  {
   "cell_type": "code",
   "execution_count": 38,
   "metadata": {},
   "outputs": [
    {
     "data": {
      "text/plain": [
       "1"
      ]
     },
     "execution_count": 38,
     "metadata": {},
     "output_type": "execute_result"
    }
   ],
   "source": [
    "9%2"
   ]
  },
  {
   "cell_type": "code",
   "execution_count": 74,
   "metadata": {},
   "outputs": [
    {
     "name": "stdout",
     "output_type": "stream",
     "text": [
      "send to different club\n"
     ]
    }
   ],
   "source": [
    "age = 17\n",
    "\n",
    "if age >= 18:\n",
    "    print(\"Let them enter\")\n",
    "\n",
    "elif age >=16 and age <18:\n",
    "    print(\"send to different club\")\n",
    "else:\n",
    "    print(\"Do not let them enter\")"
   ]
  },
  {
   "cell_type": "code",
   "execution_count": 65,
   "metadata": {},
   "outputs": [
    {
     "name": "stdout",
     "output_type": "stream",
     "text": [
      "Not even\n"
     ]
    }
   ],
   "source": [
    "num = 13\n",
    "\n",
    "if num%2 == 0 :\n",
    "    print(\"Yes it is even\")\n",
    "\n",
    "else:\n",
    "    print(\"Not even\")"
   ]
  },
  {
   "cell_type": "code",
   "execution_count": 70,
   "metadata": {},
   "outputs": [
    {
     "data": {
      "text/plain": [
       "False"
      ]
     },
     "execution_count": 70,
     "metadata": {},
     "output_type": "execute_result"
    }
   ],
   "source": [
    "num1 = 4\n",
    "num2 = 3\n",
    "\n",
    "num1 > 5 and not num2 < 4"
   ]
  },
  {
   "cell_type": "code",
   "execution_count": 71,
   "metadata": {},
   "outputs": [
    {
     "data": {
      "text/plain": [
       "False"
      ]
     },
     "execution_count": 71,
     "metadata": {},
     "output_type": "execute_result"
    }
   ],
   "source": [
    "not num2 < 4"
   ]
  },
  {
   "cell_type": "code",
   "execution_count": 72,
   "metadata": {},
   "outputs": [
    {
     "data": {
      "text/plain": [
       "False"
      ]
     },
     "execution_count": 72,
     "metadata": {},
     "output_type": "execute_result"
    }
   ],
   "source": [
    "num2 >= 4"
   ]
  },
  {
   "cell_type": "code",
   "execution_count": 82,
   "metadata": {},
   "outputs": [
    {
     "data": {
      "text/plain": [
       "True"
      ]
     },
     "execution_count": 82,
     "metadata": {},
     "output_type": "execute_result"
    }
   ],
   "source": [
    "\"YT\" >  \"YS\""
   ]
  },
  {
   "cell_type": "code",
   "execution_count": 83,
   "metadata": {},
   "outputs": [
    {
     "name": "stdout",
     "output_type": "stream",
     "text": [
      "sumit abhi abrar neil\n"
     ]
    }
   ],
   "source": [
    "names = input()"
   ]
  },
  {
   "cell_type": "code",
   "execution_count": 120,
   "metadata": {},
   "outputs": [
    {
     "data": {
      "text/plain": [
       "'lien rarba ihba timus'"
      ]
     },
     "execution_count": 120,
     "metadata": {},
     "output_type": "execute_result"
    }
   ],
   "source": [
    "names[::-1]"
   ]
  },
  {
   "cell_type": "code",
   "execution_count": 127,
   "metadata": {},
   "outputs": [],
   "source": [
    "name_list = names.split()"
   ]
  },
  {
   "cell_type": "code",
   "execution_count": 138,
   "metadata": {},
   "outputs": [
    {
     "data": {
      "text/plain": [
       "['neil', 'abrar', 'abhi', 'sumit']"
      ]
     },
     "execution_count": 138,
     "metadata": {},
     "output_type": "execute_result"
    }
   ],
   "source": [
    "name_list[3 : : -1]"
   ]
  },
  {
   "cell_type": "code",
   "execution_count": 44,
   "metadata": {},
   "outputs": [
    {
     "name": "stdout",
     "output_type": "stream",
     "text": [
      "9\n"
     ]
    }
   ],
   "source": [
    "l = [4, 3, 1, 5, 2, -1, 9]\n",
    "\n",
    "abc = -float('inf')\n",
    "\n",
    "for i in range(2, len(l)):\n",
    "    \n",
    "    if abc < l[i]:\n",
    "        abc = l[i]\n",
    "        \n",
    "print(abc)        "
   ]
  },
  {
   "cell_type": "code",
   "execution_count": 35,
   "metadata": {},
   "outputs": [
    {
     "data": {
      "text/plain": [
       "True"
      ]
     },
     "execution_count": 35,
     "metadata": {},
     "output_type": "execute_result"
    }
   ],
   "source": [
    "float('inf') \n"
   ]
  },
  {
   "cell_type": "code",
   "execution_count": 6,
   "metadata": {},
   "outputs": [
    {
     "name": "stdout",
     "output_type": "stream",
     "text": [
      "s set:  {1, 2, 3, 4}\n",
      "s1 set:  {1, 2, 3, 4, 5, 7, 8, 9}\n"
     ]
    }
   ],
   "source": [
    "# creating a set\n",
    "\n",
    "# method 1: \n",
    "l = [1,2,3,4,2,2,1,3]\n",
    "s = set(l)\n",
    "print(\"s set: \", s)\n",
    "# method 2:\n",
    "s1 = {1,2,2,3,4,5,9,7,8}\n",
    "print(\"s1 set: \", s1)"
   ]
  },
  {
   "cell_type": "code",
   "execution_count": 10,
   "metadata": {},
   "outputs": [
    {
     "data": {
      "text/plain": [
       "{1, 2, 3, 4, 5, 7, 8, 9}"
      ]
     },
     "execution_count": 10,
     "metadata": {},
     "output_type": "execute_result"
    }
   ],
   "source": [
    "s.union(s1)"
   ]
  },
  {
   "cell_type": "code",
   "execution_count": 11,
   "metadata": {},
   "outputs": [
    {
     "data": {
      "text/plain": [
       "{1, 2, 3, 4}"
      ]
     },
     "execution_count": 11,
     "metadata": {},
     "output_type": "execute_result"
    }
   ],
   "source": [
    "s.intersection(s1)"
   ]
  },
  {
   "cell_type": "code",
   "execution_count": 13,
   "metadata": {},
   "outputs": [
    {
     "data": {
      "text/plain": [
       "set()"
      ]
     },
     "execution_count": 13,
     "metadata": {},
     "output_type": "execute_result"
    }
   ],
   "source": [
    "s - s1"
   ]
  },
  {
   "cell_type": "code",
   "execution_count": null,
   "metadata": {},
   "outputs": [],
   "source": [
    "s1 - s"
   ]
  },
  {
   "cell_type": "markdown",
   "metadata": {},
   "source": [
    "# Type function"
   ]
  },
  {
   "cell_type": "code",
   "execution_count": 7,
   "metadata": {},
   "outputs": [
    {
     "data": {
      "text/plain": [
       "set"
      ]
     },
     "execution_count": 7,
     "metadata": {},
     "output_type": "execute_result"
    }
   ],
   "source": [
    "type(s)"
   ]
  },
  {
   "cell_type": "markdown",
   "metadata": {},
   "source": [
    "# Tuple"
   ]
  },
  {
   "cell_type": "code",
   "execution_count": 3,
   "metadata": {},
   "outputs": [
    {
     "name": "stdout",
     "output_type": "stream",
     "text": [
      "[1, 2, 3, 12, 5]\n"
     ]
    },
    {
     "ename": "TypeError",
     "evalue": "'tuple' object does not support item assignment",
     "output_type": "error",
     "traceback": [
      "\u001b[0;31m---------------------------------------------------------------------------\u001b[0m",
      "\u001b[0;31mTypeError\u001b[0m                                 Traceback (most recent call last)",
      "\u001b[0;32m<ipython-input-3-52b69499f570>\u001b[0m in \u001b[0;36m<module>\u001b[0;34m\u001b[0m\n\u001b[1;32m      6\u001b[0m \u001b[0;31m# tuple is immutable\u001b[0m\u001b[0;34m\u001b[0m\u001b[0;34m\u001b[0m\u001b[0;34m\u001b[0m\u001b[0m\n\u001b[1;32m      7\u001b[0m \u001b[0mt\u001b[0m \u001b[0;34m=\u001b[0m \u001b[0;34m(\u001b[0m\u001b[0;36m1\u001b[0m\u001b[0;34m,\u001b[0m\u001b[0;36m2\u001b[0m\u001b[0;34m,\u001b[0m\u001b[0;36m3\u001b[0m\u001b[0;34m,\u001b[0m\u001b[0;36m4\u001b[0m\u001b[0;34m,\u001b[0m\u001b[0;36m5\u001b[0m\u001b[0;34m)\u001b[0m\u001b[0;34m\u001b[0m\u001b[0;34m\u001b[0m\u001b[0m\n\u001b[0;32m----> 8\u001b[0;31m \u001b[0mt\u001b[0m\u001b[0;34m[\u001b[0m\u001b[0;36m3\u001b[0m\u001b[0;34m]\u001b[0m \u001b[0;34m=\u001b[0m \u001b[0;36m12\u001b[0m\u001b[0;34m\u001b[0m\u001b[0;34m\u001b[0m\u001b[0m\n\u001b[0m",
      "\u001b[0;31mTypeError\u001b[0m: 'tuple' object does not support item assignment"
     ]
    }
   ],
   "source": [
    "# list is mutable like COVID -19 & Deadpool\n",
    "l = [1,2,3,4,5]\n",
    "l[3] = 12\n",
    "print(l)\n",
    "\n",
    "# tuple is immutable\n",
    "l = (1,2,3,4,5)\n",
    "t[3] = 12 # throws error: TypeError: 'tuple' object does not support item assignment\n",
    "\n",
    "# we can't mutate but we can always reassign\n",
    "# just like killing and rebirth\n",
    "l = (1,2,3,12,5)\n",
    "\n",
    "# iterating over a list is slower thatn tuple, i.e I can iterate over tuple in a faster way\n",
    "# list consumes more memory tuple\n",
    "# list has several built in function, and tuple does not have\n",
    "\n"
   ]
  },
  {
   "cell_type": "markdown",
   "metadata": {},
   "source": [
    "# Dictionary"
   ]
  },
  {
   "cell_type": "code",
   "execution_count": 8,
   "metadata": {},
   "outputs": [],
   "source": [
    "# dictionary meaning"
   ]
  },
  {
   "cell_type": "code",
   "execution_count": 11,
   "metadata": {},
   "outputs": [
    {
     "data": {
      "text/plain": [
       "dict"
      ]
     },
     "execution_count": 11,
     "metadata": {},
     "output_type": "execute_result"
    }
   ],
   "source": [
    "# initialisation\n",
    "d = {}\n",
    "\n",
    "type(d)"
   ]
  },
  {
   "cell_type": "code",
   "execution_count": 13,
   "metadata": {},
   "outputs": [
    {
     "name": "stdout",
     "output_type": "stream",
     "text": [
      "{1: 'abc', 2: 'efg', 3: 'xyz', 'name': 'pqr'}\n"
     ]
    }
   ],
   "source": [
    "d = { 1 : 'abc', 2 : 'efg', 3 : 'xyz', 'name' :'pqr' }\n",
    "print(d)"
   ]
  },
  {
   "cell_type": "code",
   "execution_count": 16,
   "metadata": {},
   "outputs": [
    {
     "data": {
      "text/plain": [
       "'pqr'"
      ]
     },
     "execution_count": 16,
     "metadata": {},
     "output_type": "execute_result"
    }
   ],
   "source": [
    "# when we want to search for a value of a key\n",
    "\n",
    "# dictionary['key']\n",
    "\n",
    "d['name']"
   ]
  },
  {
   "cell_type": "code",
   "execution_count": 17,
   "metadata": {},
   "outputs": [
    {
     "ename": "KeyError",
     "evalue": "4",
     "output_type": "error",
     "traceback": [
      "\u001b[0;31m---------------------------------------------------------------------------\u001b[0m",
      "\u001b[0;31mKeyError\u001b[0m                                  Traceback (most recent call last)",
      "\u001b[0;32m<ipython-input-17-31c4f4ce9503>\u001b[0m in \u001b[0;36m<module>\u001b[0;34m\u001b[0m\n\u001b[0;32m----> 1\u001b[0;31m \u001b[0md\u001b[0m\u001b[0;34m[\u001b[0m\u001b[0;36m4\u001b[0m\u001b[0;34m]\u001b[0m\u001b[0;34m\u001b[0m\u001b[0;34m\u001b[0m\u001b[0m\n\u001b[0m",
      "\u001b[0;31mKeyError\u001b[0m: 4"
     ]
    }
   ],
   "source": [
    "# d[4] # throws KeyError: 4, \n",
    "# which effectively means that 4 is not present in the keys of dictionary\n",
    "# it is equivalent of searching a meaningless english word in oxford dictionary"
   ]
  },
  {
   "cell_type": "code",
   "execution_count": 18,
   "metadata": {},
   "outputs": [
    {
     "data": {
      "text/plain": [
       "{1: 'abc', 2: 'efg', 3: 'xyz'}"
      ]
     },
     "execution_count": 18,
     "metadata": {},
     "output_type": "execute_result"
    }
   ],
   "source": [
    "# delete an element from dictionary\n",
    "\n",
    "del d['name']\n",
    "\n",
    "d"
   ]
  },
  {
   "cell_type": "code",
   "execution_count": 19,
   "metadata": {},
   "outputs": [
    {
     "data": {
      "text/plain": [
       "{}"
      ]
     },
     "execution_count": 19,
     "metadata": {},
     "output_type": "execute_result"
    }
   ],
   "source": [
    "# clear the dictionary i.e delete all the elements\n",
    "\n",
    "d.clear()\n",
    "d"
   ]
  },
  {
   "cell_type": "code",
   "execution_count": 20,
   "metadata": {},
   "outputs": [
    {
     "ename": "NameError",
     "evalue": "name 'd' is not defined",
     "output_type": "error",
     "traceback": [
      "\u001b[0;31m---------------------------------------------------------------------------\u001b[0m",
      "\u001b[0;31mNameError\u001b[0m                                 Traceback (most recent call last)",
      "\u001b[0;32m<ipython-input-20-876f0aa44a2d>\u001b[0m in \u001b[0;36m<module>\u001b[0;34m\u001b[0m\n\u001b[1;32m      2\u001b[0m \u001b[0;32mdel\u001b[0m \u001b[0md\u001b[0m\u001b[0;34m\u001b[0m\u001b[0;34m\u001b[0m\u001b[0m\n\u001b[1;32m      3\u001b[0m \u001b[0;34m\u001b[0m\u001b[0m\n\u001b[0;32m----> 4\u001b[0;31m \u001b[0mprint\u001b[0m\u001b[0;34m(\u001b[0m\u001b[0md\u001b[0m\u001b[0;34m)\u001b[0m\u001b[0;34m\u001b[0m\u001b[0;34m\u001b[0m\u001b[0m\n\u001b[0m",
      "\u001b[0;31mNameError\u001b[0m: name 'd' is not defined"
     ]
    }
   ],
   "source": [
    "# delete the whole dictionary \n",
    "del d\n",
    "\n",
    "print(d)"
   ]
  },
  {
   "cell_type": "code",
   "execution_count": 21,
   "metadata": {},
   "outputs": [
    {
     "ename": "TypeError",
     "evalue": "unhashable type: 'list'",
     "output_type": "error",
     "traceback": [
      "\u001b[0;31m---------------------------------------------------------------------------\u001b[0m",
      "\u001b[0;31mTypeError\u001b[0m                                 Traceback (most recent call last)",
      "\u001b[0;32m<ipython-input-21-c945d712c120>\u001b[0m in \u001b[0;36m<module>\u001b[0;34m\u001b[0m\n\u001b[1;32m      1\u001b[0m \u001b[0;31m# keys must be immutable\u001b[0m\u001b[0;34m\u001b[0m\u001b[0;34m\u001b[0m\u001b[0;34m\u001b[0m\u001b[0m\n\u001b[1;32m      2\u001b[0m \u001b[0;34m\u001b[0m\u001b[0m\n\u001b[0;32m----> 3\u001b[0;31m \u001b[0md\u001b[0m \u001b[0;34m=\u001b[0m \u001b[0;34m{\u001b[0m\u001b[0;36m1\u001b[0m \u001b[0;34m:\u001b[0m \u001b[0;34m'abc'\u001b[0m\u001b[0;34m,\u001b[0m \u001b[0;34m'sumit'\u001b[0m\u001b[0;34m:\u001b[0m \u001b[0;34m'red'\u001b[0m\u001b[0;34m,\u001b[0m \u001b[0;34m[\u001b[0m\u001b[0;34m'name'\u001b[0m\u001b[0;34m]\u001b[0m \u001b[0;34m:\u001b[0m \u001b[0;34m'xyz'\u001b[0m\u001b[0;34m}\u001b[0m\u001b[0;34m\u001b[0m\u001b[0;34m\u001b[0m\u001b[0m\n\u001b[0m\u001b[1;32m      4\u001b[0m \u001b[0;34m\u001b[0m\u001b[0m\n\u001b[1;32m      5\u001b[0m \u001b[0mprint\u001b[0m\u001b[0;34m(\u001b[0m\u001b[0md\u001b[0m\u001b[0;34m)\u001b[0m\u001b[0;34m\u001b[0m\u001b[0;34m\u001b[0m\u001b[0m\n",
      "\u001b[0;31mTypeError\u001b[0m: unhashable type: 'list'"
     ]
    }
   ],
   "source": [
    "# keys must be immutable\n",
    "l = [1,2,3,4]\n",
    "d = {1 : 'abc', 'sumit': 'red', l: 'xyz'}\n",
    "l[3] = 0\n",
    "print(d)"
   ]
  },
  {
   "cell_type": "markdown",
   "metadata": {},
   "source": [
    "![Keys should be](hash_key_immutable.png)"
   ]
  },
  {
   "cell_type": "code",
   "execution_count": 26,
   "metadata": {},
   "outputs": [
    {
     "name": "stdout",
     "output_type": "stream",
     "text": [
      "sumit\n"
     ]
    }
   ],
   "source": [
    "s = 'sumit'\n",
    "print(s)"
   ]
  },
  {
   "cell_type": "code",
   "execution_count": 28,
   "metadata": {},
   "outputs": [],
   "source": [
    "# s[0] ='e' # throws error-> TypeError: 'str' object does not support item assignment"
   ]
  },
  {
   "cell_type": "code",
   "execution_count": 32,
   "metadata": {},
   "outputs": [
    {
     "name": "stdout",
     "output_type": "stream",
     "text": [
      "4546692368\n",
      "4546692368\n",
      "4546692304\n"
     ]
    }
   ],
   "source": [
    "a = 5\n",
    "b = 5\n",
    "\n",
    "print(id(a))\n",
    "print(id(b))\n",
    "\n",
    "b = 3\n",
    "\n",
    "print(id(b))"
   ]
  },
  {
   "cell_type": "markdown",
   "metadata": {},
   "source": [
    "![Keys should be](id.png)"
   ]
  },
  {
   "cell_type": "code",
   "execution_count": 39,
   "metadata": {},
   "outputs": [
    {
     "name": "stdout",
     "output_type": "stream",
     "text": [
      "3 5\n"
     ]
    }
   ],
   "source": [
    "l = input().split()"
   ]
  },
  {
   "cell_type": "markdown",
   "metadata": {},
   "source": [
    "# Solved hackerrank question: \n",
    "https://www.hackerrank.com/challenges/no-idea/problem"
   ]
  },
  {
   "cell_type": "markdown",
   "metadata": {},
   "source": [
    "# More on Loops\n",
    "## While Loop"
   ]
  },
  {
   "cell_type": "code",
   "execution_count": 45,
   "metadata": {},
   "outputs": [
    {
     "name": "stdout",
     "output_type": "stream",
     "text": [
      "0\n",
      "1\n",
      "2\n",
      "3\n"
     ]
    }
   ],
   "source": [
    "count = 0\n",
    "\n",
    "print(count)\n",
    "count += 1\n",
    "print(count)\n",
    "count += 1\n",
    "print(count)\n",
    "count += 1\n",
    "print(count)"
   ]
  },
  {
   "cell_type": "code",
   "execution_count": 52,
   "metadata": {},
   "outputs": [
    {
     "name": "stdout",
     "output_type": "stream",
     "text": [
      "inside while the count is:  0\n",
      "inside while the count is:  1\n",
      "inside while the count is:  2\n",
      "inside while the count is:  3\n",
      "good bye! the count is:  4\n"
     ]
    }
   ],
   "source": [
    "count = 0\n",
    "\n",
    "while count <= 3:\n",
    "    print(\"inside while the count is: \",count)\n",
    "    count += 1\n",
    "    \n",
    "print(\"good bye! the count is: \", count)"
   ]
  },
  {
   "cell_type": "code",
   "execution_count": 1,
   "metadata": {},
   "outputs": [],
   "source": [
    "# WAP to print all the tables till 10\n",
    "# WAP to print all cubes this first 30 nautral numbers\n",
    "# WAP to print squareroot of first 30 nautral numbers\n",
    "\n",
    "# WAP "
   ]
  },
  {
   "cell_type": "code",
   "execution_count": 5,
   "metadata": {},
   "outputs": [
    {
     "name": "stdout",
     "output_type": "stream",
     "text": [
      "0\n",
      "1\n",
      "2\n",
      "3\n",
      "4\n",
      "No more elements are in tuple.\n",
      "product is:  120\n"
     ]
    }
   ],
   "source": [
    "# while... else\n",
    "tup = (1,2,3,4,5)\n",
    "\n",
    "prod = 1\n",
    "\n",
    "index = 0\n",
    "\n",
    "while index < len(tup):\n",
    "    print(index)\n",
    "    prod = prod * tup[index]\n",
    "    index += 1\n",
    "    \n",
    "else:\n",
    "    print(\"No more elements are in tuple.\")\n",
    "    \n",
    "print(\"product is: \", prod)"
   ]
  },
  {
   "cell_type": "markdown",
   "metadata": {},
   "source": [
    "## Break Statement"
   ]
  },
  {
   "cell_type": "code",
   "execution_count": 8,
   "metadata": {},
   "outputs": [
    {
     "name": "stdout",
     "output_type": "stream",
     "text": [
      "0\n",
      "1\n",
      "2\n",
      "3\n",
      "4\n"
     ]
    }
   ],
   "source": [
    "i = 0\n",
    "\n",
    "while i < 4:\n",
    "    print(i)\n",
    "    if i == 4:\n",
    "        break\n",
    "        \n",
    "    i += 1\n",
    "    "
   ]
  },
  {
   "cell_type": "code",
   "execution_count": 10,
   "metadata": {
    "scrolled": true
   },
   "outputs": [
    {
     "name": "stdout",
     "output_type": "stream",
     "text": [
      "Enter an element to search in the list: \n",
      "0\n",
      "Searching at index:  0\n",
      "Searching at index:  1\n",
      "Searching at index:  2\n",
      "Searching at index:  3\n",
      "Searching at index:  4\n",
      "I found the element\n",
      "Searching at index:  5\n",
      "Searching at index:  6\n",
      "Searching at index:  7\n",
      "Searching at index:  8\n"
     ]
    }
   ],
   "source": [
    "l = [1,2,5,3,0,-1,56,23,91]\n",
    "\n",
    "print(\"Enter an element to search in the list: \")\n",
    "x = int(input())\n",
    "\n",
    "i = 0\n",
    "\n",
    "while i < len(l):\n",
    "    print(\"Searching at index: \", i)\n",
    "    if l[i] == x:\n",
    "        print(\"I found the element\")\n",
    "        break\n",
    "        \n",
    "    i += 1"
   ]
  },
  {
   "cell_type": "code",
   "execution_count": null,
   "metadata": {},
   "outputs": [],
   "source": [
    "l = ['dhruvi', 'bharat', 'raj', 'pratik']\n",
    "\n",
    "i = 0\n",
    "\n",
    "while i < len(l):\n",
    "    \n",
    "   \n",
    "    \n",
    "    print(\"send chocos to: \", l[i])\n",
    "    i += 1\n",
    "    if l[i] == 'bharat':\n",
    "        continue\n",
    "    "
   ]
  },
  {
   "cell_type": "code",
   "execution_count": null,
   "metadata": {},
   "outputs": [],
   "source": [
    "l = [1,2,3,4,5]\n",
    "\n",
    "i = 0 \n",
    "\n",
    "while i < 5:\n",
    "    i += 1\n",
    "    if i == 2:\n",
    "        continue\n",
    "    print(i)\n",
    "    \n",
    "    "
   ]
  },
  {
   "cell_type": "markdown",
   "metadata": {},
   "source": [
    "## Membership Operator"
   ]
  },
  {
   "cell_type": "code",
   "execution_count": 14,
   "metadata": {},
   "outputs": [
    {
     "name": "stdout",
     "output_type": "stream",
     "text": [
      "False\n",
      "True\n",
      "True\n"
     ]
    }
   ],
   "source": [
    "l = [1,2,3,4]\n",
    "\n",
    "print(5 in l)  # value in iterable\n",
    "print(2 in l)\n",
    "\n",
    "print(5 not in l)"
   ]
  },
  {
   "cell_type": "code",
   "execution_count": 13,
   "metadata": {},
   "outputs": [
    {
     "name": "stdout",
     "output_type": "stream",
     "text": [
      "False\n",
      "True\n"
     ]
    }
   ],
   "source": [
    "d = {1 :  'a', 2 : 'b'}\n",
    "\n",
    "print('a' in d) # you can't use values\n",
    "print(1 in d) # membership operator works on keys of a dict only"
   ]
  },
  {
   "cell_type": "code",
   "execution_count": null,
   "metadata": {},
   "outputs": [],
   "source": [
    "l = [1,2,3,4,5,6]\n",
    "print(\"list before updateing: \", l)\n",
    "for i in range(len(l)):\n",
    "    if i == 2:\n",
    "        l[i] = 0\n",
    "        \n",
    "print(\"list after updating: \", l)"
   ]
  },
  {
   "cell_type": "code",
   "execution_count": 21,
   "metadata": {},
   "outputs": [
    {
     "name": "stdout",
     "output_type": "stream",
     "text": [
      "list before updateing:  [1, 2, 3, 4, 5, 6]\n",
      "list after updating:  [1, 2, 0, 4, 5, 6]\n"
     ]
    }
   ],
   "source": [
    "l = [1,2,3,4,5,6]\n",
    "indxs = [0,1,2,3,4,5]\n",
    "print(\"list before updateing: \", l)\n",
    "for i in indxs:\n",
    "\n",
    "    if i == 2:\n",
    "        l[i] = 0\n",
    "        \n",
    "print(\"list after updating: \", l)"
   ]
  },
  {
   "cell_type": "code",
   "execution_count": 22,
   "metadata": {},
   "outputs": [
    {
     "name": "stdout",
     "output_type": "stream",
     "text": [
      "list before updateing:  [1, 2, 3, 4, 5, 6]\n",
      "list after updating:  [1, 2, 0, 4, 5, 6]\n"
     ]
    }
   ],
   "source": [
    "l = [1,2,3,4,5,6]\n",
    "print(\"list before updateing: \", l)\n",
    "for i in range(len(l)):\n",
    "    if i == 2:\n",
    "        l[i] = 0\n",
    "        \n",
    "print(\"list after updating: \", l)"
   ]
  },
  {
   "cell_type": "code",
   "execution_count": 24,
   "metadata": {},
   "outputs": [
    {
     "name": "stdout",
     "output_type": "stream",
     "text": [
      "2 1\n",
      "3 2\n",
      "4 3\n",
      "5 4\n",
      "6 5\n"
     ]
    }
   ],
   "source": [
    "l = [1, 2, 3, 4, 5, 6]\n",
    "\n",
    "for i in l:\n",
    "    if i == 6:\n",
    "        break\n",
    "    print(l[i], i)"
   ]
  },
  {
   "cell_type": "code",
   "execution_count": 26,
   "metadata": {},
   "outputs": [
    {
     "name": "stdout",
     "output_type": "stream",
     "text": [
      "index is:  3\n"
     ]
    }
   ],
   "source": [
    "l = set(l)\n",
    "for i in range(len(l)):\n",
    "    if l[i] == 4:\n",
    "        print(\"index is: \", i)"
   ]
  },
  {
   "cell_type": "markdown",
   "metadata": {},
   "source": [
    "# Nested Loops"
   ]
  },
  {
   "cell_type": "code",
   "execution_count": 27,
   "metadata": {},
   "outputs": [
    {
     "name": "stdout",
     "output_type": "stream",
     "text": [
      "Slap person : 0\n",
      "Slap person : 1\n",
      "Slap person : 2\n",
      "Slap person : 3\n",
      "Slap person : 4\n",
      "Slap person : 5\n"
     ]
    }
   ],
   "source": [
    "\n"
   ]
  },
  {
   "cell_type": "code",
   "execution_count": 30,
   "metadata": {},
   "outputs": [
    {
     "name": "stdout",
     "output_type": "stream",
     "text": [
      "Goto room: 0  & Slap person : 0\n",
      "Goto room: 0  & Slap person : 1\n",
      "Goto room: 0  & Slap person : 2\n",
      "Goto room: 0  & Slap person : 3\n",
      "Goto room: 0  & Slap person : 4\n",
      "Goto room: 0  & Slap person : 5\n",
      "Goto room: 1  & Slap person : 0\n",
      "Goto room: 1  & Slap person : 1\n",
      "Goto room: 1  & Slap person : 2\n",
      "Goto room: 1  & Slap person : 3\n",
      "Goto room: 1  & Slap person : 4\n",
      "Goto room: 1  & Slap person : 5\n",
      "Goto room: 2  & Slap person : 0\n",
      "Goto room: 2  & Slap person : 1\n",
      "Goto room: 2  & Slap person : 2\n",
      "Goto room: 2  & Slap person : 3\n",
      "Goto room: 2  & Slap person : 4\n",
      "Goto room: 2  & Slap person : 5\n",
      "Goto room: 3  & Slap person : 0\n",
      "Goto room: 3  & Slap person : 1\n",
      "Goto room: 3  & Slap person : 2\n",
      "Goto room: 3  & Slap person : 3\n",
      "Goto room: 3  & Slap person : 4\n",
      "Goto room: 3  & Slap person : 5\n"
     ]
    }
   ],
   "source": [
    "for j in range(4):\n",
    "    \n",
    "    for i in range(6):\n",
    "        print(\"Goto room:\",j, \" & Slap person :\", i)\n",
    "        \n",
    "        if i == 4:\n",
    "            break"
   ]
  },
  {
   "cell_type": "code",
   "execution_count": 32,
   "metadata": {},
   "outputs": [
    {
     "name": "stdout",
     "output_type": "stream",
     "text": [
      "1\n",
      "2\n",
      "3\n",
      "4\n",
      "5\n",
      "6\n",
      "7\n",
      "8\n",
      "9\n"
     ]
    }
   ],
   "source": [
    "l = [[1,2,3], [4,5,6], [7,8,9]]\n",
    "\n",
    "for i in l:\n",
    "    n = i\n",
    "    # print(n)\n",
    "    for j in n:\n",
    "        print(j)"
   ]
  },
  {
   "cell_type": "code",
   "execution_count": 33,
   "metadata": {},
   "outputs": [
    {
     "name": "stdout",
     "output_type": "stream",
     "text": [
      "1\n",
      "2\n",
      "3\n",
      "4\n",
      "5\n",
      "6\n",
      "7\n",
      "8\n",
      "9\n"
     ]
    }
   ],
   "source": [
    "l = [[1,2,3],[4,5,6],[7,8,9]]\n",
    "\n",
    "for i in range(3):\n",
    "    for j in range(3):\n",
    "        print(l[i][j])"
   ]
  },
  {
   "cell_type": "markdown",
   "metadata": {},
   "source": [
    "# Functions"
   ]
  },
  {
   "cell_type": "code",
   "execution_count": 39,
   "metadata": {},
   "outputs": [
    {
     "data": {
      "text/plain": [
       "8"
      ]
     },
     "execution_count": 39,
     "metadata": {},
     "output_type": "execute_result"
    }
   ],
   "source": [
    "def sum_is(a, b):\n",
    "    c = a + b\n",
    "    return c\n",
    "\n",
    "sum_is(2, 6)"
   ]
  },
  {
   "cell_type": "code",
   "execution_count": 51,
   "metadata": {},
   "outputs": [],
   "source": [
    "def another_complex_math_fun(a, b):\n",
    "    a = a+ b\n",
    "    a = a/b\n",
    "    a = a*b \n",
    "    return a, \"sumit\""
   ]
  },
  {
   "cell_type": "code",
   "execution_count": 50,
   "metadata": {},
   "outputs": [
    {
     "data": {
      "text/plain": [
       "(8.0, 'sumit')"
      ]
     },
     "execution_count": 50,
     "metadata": {},
     "output_type": "execute_result"
    }
   ],
   "source": [
    "another_complex_math_fun(6, 2)"
   ]
  },
  {
   "cell_type": "code",
   "execution_count": 51,
   "metadata": {},
   "outputs": [],
   "source": [
    "x, y = another_complex_math_fun(4,-20)"
   ]
  },
  {
   "cell_type": "code",
   "execution_count": 52,
   "metadata": {},
   "outputs": [
    {
     "data": {
      "text/plain": [
       "-16.0"
      ]
     },
     "execution_count": 52,
     "metadata": {},
     "output_type": "execute_result"
    }
   ],
   "source": [
    "x"
   ]
  },
  {
   "cell_type": "code",
   "execution_count": 53,
   "metadata": {},
   "outputs": [
    {
     "data": {
      "text/plain": [
       "'sumit'"
      ]
     },
     "execution_count": 53,
     "metadata": {},
     "output_type": "execute_result"
    }
   ],
   "source": [
    "y"
   ]
  },
  {
   "cell_type": "code",
   "execution_count": 45,
   "metadata": {},
   "outputs": [
    {
     "name": "stdout",
     "output_type": "stream",
     "text": [
      "8\n",
      "None\n"
     ]
    }
   ],
   "source": [
    "def sum_is(a, b):\n",
    "    c = a + b\n",
    "    print(c)\n",
    "\n",
    "print(sum_is(2, 6))"
   ]
  },
  {
   "cell_type": "code",
   "execution_count": 52,
   "metadata": {},
   "outputs": [
    {
     "data": {
      "text/plain": [
       "tuple"
      ]
     },
     "execution_count": 52,
     "metadata": {},
     "output_type": "execute_result"
    }
   ],
   "source": [
    "type(another_complex_math_fun(4,-20))"
   ]
  },
  {
   "cell_type": "markdown",
   "metadata": {},
   "source": [
    "## Scope of variables"
   ]
  },
  {
   "cell_type": "code",
   "execution_count": 67,
   "metadata": {},
   "outputs": [
    {
     "name": "stdout",
     "output_type": "stream",
     "text": [
      "40\n",
      "10\n"
     ]
    }
   ],
   "source": [
    "a = 10\n",
    "b = 20\n",
    "\n",
    "def fun_sum():\n",
    "    a = 20\n",
    "    print(a+b)\n",
    "    \n",
    "fun_sum()\n",
    "print(a)"
   ]
  },
  {
   "cell_type": "code",
   "execution_count": 59,
   "metadata": {},
   "outputs": [
    {
     "ename": "NameError",
     "evalue": "name 'l' is not defined",
     "output_type": "error",
     "traceback": [
      "\u001b[0;31m---------------------------------------------------------------------------\u001b[0m",
      "\u001b[0;31mNameError\u001b[0m                                 Traceback (most recent call last)",
      "\u001b[0;32m<ipython-input-59-abd7b904decc>\u001b[0m in \u001b[0;36m<module>\u001b[0;34m\u001b[0m\n\u001b[1;32m      3\u001b[0m     \u001b[0mm\u001b[0m \u001b[0;34m=\u001b[0m \u001b[0;36m20\u001b[0m\u001b[0;34m\u001b[0m\u001b[0;34m\u001b[0m\u001b[0m\n\u001b[1;32m      4\u001b[0m \u001b[0;34m\u001b[0m\u001b[0m\n\u001b[0;32m----> 5\u001b[0;31m \u001b[0mprint\u001b[0m\u001b[0;34m(\u001b[0m\u001b[0ml\u001b[0m \u001b[0;34m+\u001b[0m \u001b[0mm\u001b[0m\u001b[0;34m)\u001b[0m\u001b[0;34m\u001b[0m\u001b[0;34m\u001b[0m\u001b[0m\n\u001b[0m",
      "\u001b[0;31mNameError\u001b[0m: name 'l' is not defined"
     ]
    }
   ],
   "source": [
    "def fun():\n",
    "    l = 10\n",
    "    m = 20\n",
    "    \n",
    "print(l + m)"
   ]
  },
  {
   "cell_type": "code",
   "execution_count": 60,
   "metadata": {},
   "outputs": [
    {
     "name": "stdout",
     "output_type": "stream",
     "text": [
      "3\n"
     ]
    },
    {
     "ename": "NameError",
     "evalue": "name 'x' is not defined",
     "output_type": "error",
     "traceback": [
      "\u001b[0;31m---------------------------------------------------------------------------\u001b[0m",
      "\u001b[0;31mNameError\u001b[0m                                 Traceback (most recent call last)",
      "\u001b[0;32m<ipython-input-60-b24e0cb43165>\u001b[0m in \u001b[0;36m<module>\u001b[0;34m\u001b[0m\n\u001b[1;32m      8\u001b[0m \u001b[0;34m\u001b[0m\u001b[0m\n\u001b[1;32m      9\u001b[0m \u001b[0mfun_sum\u001b[0m\u001b[0;34m(\u001b[0m\u001b[0;34m)\u001b[0m\u001b[0;34m\u001b[0m\u001b[0;34m\u001b[0m\u001b[0m\n\u001b[0;32m---> 10\u001b[0;31m \u001b[0mfun_mult\u001b[0m\u001b[0;34m(\u001b[0m\u001b[0;34m)\u001b[0m\u001b[0;34m\u001b[0m\u001b[0;34m\u001b[0m\u001b[0m\n\u001b[0m",
      "\u001b[0;32m<ipython-input-60-b24e0cb43165>\u001b[0m in \u001b[0;36mfun_mult\u001b[0;34m()\u001b[0m\n\u001b[1;32m      5\u001b[0m \u001b[0;34m\u001b[0m\u001b[0m\n\u001b[1;32m      6\u001b[0m \u001b[0;32mdef\u001b[0m \u001b[0mfun_mult\u001b[0m\u001b[0;34m(\u001b[0m\u001b[0;34m)\u001b[0m\u001b[0;34m:\u001b[0m\u001b[0;34m\u001b[0m\u001b[0;34m\u001b[0m\u001b[0m\n\u001b[0;32m----> 7\u001b[0;31m     \u001b[0mprint\u001b[0m\u001b[0;34m(\u001b[0m\u001b[0mx\u001b[0m\u001b[0;34m*\u001b[0m\u001b[0my\u001b[0m\u001b[0;34m)\u001b[0m\u001b[0;34m\u001b[0m\u001b[0;34m\u001b[0m\u001b[0m\n\u001b[0m\u001b[1;32m      8\u001b[0m \u001b[0;34m\u001b[0m\u001b[0m\n\u001b[1;32m      9\u001b[0m \u001b[0mfun_sum\u001b[0m\u001b[0;34m(\u001b[0m\u001b[0;34m)\u001b[0m\u001b[0;34m\u001b[0m\u001b[0;34m\u001b[0m\u001b[0m\n",
      "\u001b[0;31mNameError\u001b[0m: name 'x' is not defined"
     ]
    }
   ],
   "source": [
    "def fun_sum():\n",
    "    x = 1\n",
    "    y = 2\n",
    "    print(x+y)\n",
    "\n",
    "def fun_mult():\n",
    "    print(x*y)\n",
    "    \n",
    "fun_sum()\n",
    "fun_mult()"
   ]
  },
  {
   "cell_type": "code",
   "execution_count": 64,
   "metadata": {},
   "outputs": [
    {
     "ename": "SyntaxError",
     "evalue": "name 'a' is assigned to before global declaration (<ipython-input-64-11c73a7a7cd5>, line 5)",
     "output_type": "error",
     "traceback": [
      "\u001b[0;36m  File \u001b[0;32m\"<ipython-input-64-11c73a7a7cd5>\"\u001b[0;36m, line \u001b[0;32m5\u001b[0m\n\u001b[0;31m    print(a)\u001b[0m\n\u001b[0m       ^\u001b[0m\n\u001b[0;31mSyntaxError\u001b[0m\u001b[0;31m:\u001b[0m name 'a' is assigned to before global declaration\n"
     ]
    }
   ],
   "source": [
    "a = 10\n",
    "\n",
    "def fun():\n",
    "    a = a+ 5\n",
    "    print(a)\n",
    "    \n",
    "fun()"
   ]
  },
  {
   "cell_type": "markdown",
   "metadata": {},
   "source": [
    "### if a variable is assigned a value anywhere within the function's body, it's assumed to be a local variable unless explicitly decleared as global.\n",
    "### Variables that are only referenceed inside a function are implicilty global.\n",
    "### We use global keyword to use a global variable inside a function\n",
    "### There is no need to use global keyword outside a function"
   ]
  },
  {
   "cell_type": "markdown",
   "metadata": {},
   "source": [
    "# Modules"
   ]
  },
  {
   "cell_type": "code",
   "execution_count": 70,
   "metadata": {},
   "outputs": [
    {
     "name": "stdout",
     "output_type": "stream",
     "text": [
      "3.141592653589793\n",
      "2.718281828459045\n"
     ]
    }
   ],
   "source": [
    "# import module\n",
    "import math\n",
    "print(math.pi)\n",
    "print(math.e)"
   ]
  },
  {
   "cell_type": "code",
   "execution_count": 72,
   "metadata": {},
   "outputs": [
    {
     "data": {
      "text/plain": [
       "27.0"
      ]
     },
     "execution_count": 72,
     "metadata": {},
     "output_type": "execute_result"
    }
   ],
   "source": [
    "math.pow(3, 3)"
   ]
  },
  {
   "cell_type": "code",
   "execution_count": 73,
   "metadata": {},
   "outputs": [
    {
     "data": {
      "text/plain": [
       "['__doc__',\n",
       " '__file__',\n",
       " '__loader__',\n",
       " '__name__',\n",
       " '__package__',\n",
       " '__spec__',\n",
       " 'acos',\n",
       " 'acosh',\n",
       " 'asin',\n",
       " 'asinh',\n",
       " 'atan',\n",
       " 'atan2',\n",
       " 'atanh',\n",
       " 'ceil',\n",
       " 'copysign',\n",
       " 'cos',\n",
       " 'cosh',\n",
       " 'degrees',\n",
       " 'e',\n",
       " 'erf',\n",
       " 'erfc',\n",
       " 'exp',\n",
       " 'expm1',\n",
       " 'fabs',\n",
       " 'factorial',\n",
       " 'floor',\n",
       " 'fmod',\n",
       " 'frexp',\n",
       " 'fsum',\n",
       " 'gamma',\n",
       " 'gcd',\n",
       " 'hypot',\n",
       " 'inf',\n",
       " 'isclose',\n",
       " 'isfinite',\n",
       " 'isinf',\n",
       " 'isnan',\n",
       " 'ldexp',\n",
       " 'lgamma',\n",
       " 'log',\n",
       " 'log10',\n",
       " 'log1p',\n",
       " 'log2',\n",
       " 'modf',\n",
       " 'nan',\n",
       " 'pi',\n",
       " 'pow',\n",
       " 'radians',\n",
       " 'remainder',\n",
       " 'sin',\n",
       " 'sinh',\n",
       " 'sqrt',\n",
       " 'tan',\n",
       " 'tanh',\n",
       " 'tau',\n",
       " 'trunc']"
      ]
     },
     "execution_count": 73,
     "metadata": {},
     "output_type": "execute_result"
    }
   ],
   "source": [
    "import math\n",
    "\n",
    "dir(math)"
   ]
  },
  {
   "cell_type": "code",
   "execution_count": 74,
   "metadata": {},
   "outputs": [
    {
     "name": "stdout",
     "output_type": "stream",
     "text": [
      "Help on module math:\n",
      "\n",
      "NAME\n",
      "    math\n",
      "\n",
      "MODULE REFERENCE\n",
      "    https://docs.python.org/3.7/library/math\n",
      "    \n",
      "    The following documentation is automatically generated from the Python\n",
      "    source files.  It may be incomplete, incorrect or include features that\n",
      "    are considered implementation detail and may vary between Python\n",
      "    implementations.  When in doubt, consult the module reference at the\n",
      "    location listed above.\n",
      "\n",
      "DESCRIPTION\n",
      "    This module provides access to the mathematical functions\n",
      "    defined by the C standard.\n",
      "\n",
      "FUNCTIONS\n",
      "    acos(x, /)\n",
      "        Return the arc cosine (measured in radians) of x.\n",
      "    \n",
      "    acosh(x, /)\n",
      "        Return the inverse hyperbolic cosine of x.\n",
      "    \n",
      "    asin(x, /)\n",
      "        Return the arc sine (measured in radians) of x.\n",
      "    \n",
      "    asinh(x, /)\n",
      "        Return the inverse hyperbolic sine of x.\n",
      "    \n",
      "    atan(x, /)\n",
      "        Return the arc tangent (measured in radians) of x.\n",
      "    \n",
      "    atan2(y, x, /)\n",
      "        Return the arc tangent (measured in radians) of y/x.\n",
      "        \n",
      "        Unlike atan(y/x), the signs of both x and y are considered.\n",
      "    \n",
      "    atanh(x, /)\n",
      "        Return the inverse hyperbolic tangent of x.\n",
      "    \n",
      "    ceil(x, /)\n",
      "        Return the ceiling of x as an Integral.\n",
      "        \n",
      "        This is the smallest integer >= x.\n",
      "    \n",
      "    copysign(x, y, /)\n",
      "        Return a float with the magnitude (absolute value) of x but the sign of y.\n",
      "        \n",
      "        On platforms that support signed zeros, copysign(1.0, -0.0)\n",
      "        returns -1.0.\n",
      "    \n",
      "    cos(x, /)\n",
      "        Return the cosine of x (measured in radians).\n",
      "    \n",
      "    cosh(x, /)\n",
      "        Return the hyperbolic cosine of x.\n",
      "    \n",
      "    degrees(x, /)\n",
      "        Convert angle x from radians to degrees.\n",
      "    \n",
      "    erf(x, /)\n",
      "        Error function at x.\n",
      "    \n",
      "    erfc(x, /)\n",
      "        Complementary error function at x.\n",
      "    \n",
      "    exp(x, /)\n",
      "        Return e raised to the power of x.\n",
      "    \n",
      "    expm1(x, /)\n",
      "        Return exp(x)-1.\n",
      "        \n",
      "        This function avoids the loss of precision involved in the direct evaluation of exp(x)-1 for small x.\n",
      "    \n",
      "    fabs(x, /)\n",
      "        Return the absolute value of the float x.\n",
      "    \n",
      "    factorial(x, /)\n",
      "        Find x!.\n",
      "        \n",
      "        Raise a ValueError if x is negative or non-integral.\n",
      "    \n",
      "    floor(x, /)\n",
      "        Return the floor of x as an Integral.\n",
      "        \n",
      "        This is the largest integer <= x.\n",
      "    \n",
      "    fmod(x, y, /)\n",
      "        Return fmod(x, y), according to platform C.\n",
      "        \n",
      "        x % y may differ.\n",
      "    \n",
      "    frexp(x, /)\n",
      "        Return the mantissa and exponent of x, as pair (m, e).\n",
      "        \n",
      "        m is a float and e is an int, such that x = m * 2.**e.\n",
      "        If x is 0, m and e are both 0.  Else 0.5 <= abs(m) < 1.0.\n",
      "    \n",
      "    fsum(seq, /)\n",
      "        Return an accurate floating point sum of values in the iterable seq.\n",
      "        \n",
      "        Assumes IEEE-754 floating point arithmetic.\n",
      "    \n",
      "    gamma(x, /)\n",
      "        Gamma function at x.\n",
      "    \n",
      "    gcd(x, y, /)\n",
      "        greatest common divisor of x and y\n",
      "    \n",
      "    hypot(x, y, /)\n",
      "        Return the Euclidean distance, sqrt(x*x + y*y).\n",
      "    \n",
      "    isclose(a, b, *, rel_tol=1e-09, abs_tol=0.0)\n",
      "        Determine whether two floating point numbers are close in value.\n",
      "        \n",
      "          rel_tol\n",
      "            maximum difference for being considered \"close\", relative to the\n",
      "            magnitude of the input values\n",
      "          abs_tol\n",
      "            maximum difference for being considered \"close\", regardless of the\n",
      "            magnitude of the input values\n",
      "        \n",
      "        Return True if a is close in value to b, and False otherwise.\n",
      "        \n",
      "        For the values to be considered close, the difference between them\n",
      "        must be smaller than at least one of the tolerances.\n",
      "        \n",
      "        -inf, inf and NaN behave similarly to the IEEE 754 Standard.  That\n",
      "        is, NaN is not close to anything, even itself.  inf and -inf are\n",
      "        only close to themselves.\n",
      "    \n",
      "    isfinite(x, /)\n",
      "        Return True if x is neither an infinity nor a NaN, and False otherwise.\n",
      "    \n",
      "    isinf(x, /)\n",
      "        Return True if x is a positive or negative infinity, and False otherwise.\n",
      "    \n",
      "    isnan(x, /)\n",
      "        Return True if x is a NaN (not a number), and False otherwise.\n",
      "    \n",
      "    ldexp(x, i, /)\n",
      "        Return x * (2**i).\n",
      "        \n",
      "        This is essentially the inverse of frexp().\n",
      "    \n",
      "    lgamma(x, /)\n",
      "        Natural logarithm of absolute value of Gamma function at x.\n",
      "    \n",
      "    log(...)\n",
      "        log(x, [base=math.e])\n",
      "        Return the logarithm of x to the given base.\n",
      "        \n",
      "        If the base not specified, returns the natural logarithm (base e) of x.\n",
      "    \n",
      "    log10(x, /)\n",
      "        Return the base 10 logarithm of x.\n",
      "    \n",
      "    log1p(x, /)\n",
      "        Return the natural logarithm of 1+x (base e).\n",
      "        \n",
      "        The result is computed in a way which is accurate for x near zero.\n",
      "    \n",
      "    log2(x, /)\n",
      "        Return the base 2 logarithm of x.\n",
      "    \n",
      "    modf(x, /)\n",
      "        Return the fractional and integer parts of x.\n",
      "        \n",
      "        Both results carry the sign of x and are floats.\n",
      "    \n",
      "    pow(x, y, /)\n",
      "        Return x**y (x to the power of y).\n",
      "    \n",
      "    radians(x, /)\n",
      "        Convert angle x from degrees to radians.\n",
      "    \n",
      "    remainder(x, y, /)\n",
      "        Difference between x and the closest integer multiple of y.\n",
      "        \n",
      "        Return x - n*y where n*y is the closest integer multiple of y.\n",
      "        In the case where x is exactly halfway between two multiples of\n",
      "        y, the nearest even value of n is used. The result is always exact.\n",
      "    \n",
      "    sin(x, /)\n",
      "        Return the sine of x (measured in radians).\n",
      "    \n",
      "    sinh(x, /)\n",
      "        Return the hyperbolic sine of x.\n",
      "    \n",
      "    sqrt(x, /)\n",
      "        Return the square root of x.\n",
      "    \n",
      "    tan(x, /)\n",
      "        Return the tangent of x (measured in radians).\n",
      "    \n",
      "    tanh(x, /)\n",
      "        Return the hyperbolic tangent of x.\n",
      "    \n",
      "    trunc(x, /)\n",
      "        Truncates the Real x to the nearest Integral toward 0.\n",
      "        \n",
      "        Uses the __trunc__ magic method.\n",
      "\n",
      "DATA\n",
      "    e = 2.718281828459045\n",
      "    inf = inf\n",
      "    nan = nan\n",
      "    pi = 3.141592653589793\n",
      "    tau = 6.283185307179586\n",
      "\n",
      "FILE\n",
      "    /Users/sumittyagi/installs/anaconda3/lib/python3.7/lib-dynload/math.cpython-37m-darwin.so\n",
      "\n",
      "\n"
     ]
    }
   ],
   "source": [
    "help(math)"
   ]
  },
  {
   "cell_type": "code",
   "execution_count": 1,
   "metadata": {},
   "outputs": [
    {
     "data": {
      "text/plain": [
       "8"
      ]
     },
     "execution_count": 1,
     "metadata": {},
     "output_type": "execute_result"
    }
   ],
   "source": [
    "2**3"
   ]
  },
  {
   "cell_type": "code",
   "execution_count": 3,
   "metadata": {},
   "outputs": [
    {
     "name": "stdout",
     "output_type": "stream",
     "text": [
      "3.141592653589793\n"
     ]
    }
   ],
   "source": [
    "# renaming a module while importing\n",
    "import math as m\n",
    "\n",
    "print(m.pi)"
   ]
  },
  {
   "cell_type": "code",
   "execution_count": 13,
   "metadata": {},
   "outputs": [],
   "source": [
    "from math import factorial, pi"
   ]
  },
  {
   "cell_type": "code",
   "execution_count": 12,
   "metadata": {},
   "outputs": [
    {
     "data": {
      "text/plain": [
       "479001600"
      ]
     },
     "execution_count": 12,
     "metadata": {},
     "output_type": "execute_result"
    }
   ],
   "source": [
    "factorial(12)"
   ]
  },
  {
   "cell_type": "code",
   "execution_count": 17,
   "metadata": {},
   "outputs": [],
   "source": [
    "from math import factorial as f"
   ]
  },
  {
   "cell_type": "code",
   "execution_count": 18,
   "metadata": {},
   "outputs": [
    {
     "data": {
      "text/plain": [
       "25852016738884976640000"
      ]
     },
     "execution_count": 18,
     "metadata": {},
     "output_type": "execute_result"
    }
   ],
   "source": [
    "f(23)"
   ]
  },
  {
   "cell_type": "code",
   "execution_count": 20,
   "metadata": {},
   "outputs": [],
   "source": [
    "import math as m"
   ]
  },
  {
   "cell_type": "markdown",
   "metadata": {},
   "source": [
    "## Some Important Module "
   ]
  },
  {
   "cell_type": "code",
   "execution_count": 37,
   "metadata": {},
   "outputs": [
    {
     "name": "stdout",
     "output_type": "stream",
     "text": [
      "124\n",
      "123\n",
      "-123\n",
      "-124\n",
      "123.0\n",
      "123\n",
      "2.0\n",
      "2\n",
      "1.0\n"
     ]
    }
   ],
   "source": [
    "import math as m\n",
    "\n",
    "print(m.ceil(123.23)) \n",
    "print(m.floor(123.23))\n",
    "print(m.ceil(-123.23))\n",
    "print(m.floor(-123.23))\n",
    "\n",
    "print(m.fabs(-123))\n",
    "print(abs(-123))\n",
    "\n",
    "print(m.sqrt(4))\n",
    "\n",
    "print(m.gcd(2,4))\n",
    "\n",
    "print(m.cos(0))"
   ]
  },
  {
   "cell_type": "code",
   "execution_count": 38,
   "metadata": {},
   "outputs": [
    {
     "name": "stdout",
     "output_type": "stream",
     "text": [
      "3.141592653589793\n"
     ]
    }
   ],
   "source": [
    "print(m.pi)"
   ]
  },
  {
   "cell_type": "code",
   "execution_count": 39,
   "metadata": {},
   "outputs": [],
   "source": [
    "# platform module\n",
    "\n",
    "import platform"
   ]
  },
  {
   "cell_type": "code",
   "execution_count": 45,
   "metadata": {},
   "outputs": [
    {
     "name": "stdout",
     "output_type": "stream",
     "text": [
      "Darwin Kernel Version 20.5.0: Sat May  8 05:10:33 PDT 2021; root:xnu-7195.121.3~9/RELEASE_X86_64\n",
      "Darwin\n",
      "20.5.0\n",
      "('10.16', ('', '', ''), 'x86_64')\n",
      "('', '', '', '')\n"
     ]
    }
   ],
   "source": [
    "print(platform.version())\n",
    "print(platform.system())\n",
    "print(platform.release())\n",
    "\n",
    "print(platform.mac_ver())\n",
    "print(platform.win32_ver())"
   ]
  },
  {
   "cell_type": "code",
   "execution_count": 46,
   "metadata": {},
   "outputs": [],
   "source": [
    "# random module\n",
    "\n",
    "import random"
   ]
  },
  {
   "cell_type": "code",
   "execution_count": 48,
   "metadata": {},
   "outputs": [
    {
     "name": "stdout",
     "output_type": "stream",
     "text": [
      "0.42500302236470633\n"
     ]
    }
   ],
   "source": [
    "print(random.random())\n",
    "\n",
    "# 0 and 1 (not inclusive)"
   ]
  },
  {
   "cell_type": "code",
   "execution_count": 56,
   "metadata": {},
   "outputs": [
    {
     "name": "stdout",
     "output_type": "stream",
     "text": [
      "1\n",
      "21.473143560671268\n",
      "46.52033010807024\n"
     ]
    }
   ],
   "source": [
    "# generate random numbers between 0 - 10 (exclusive)\n",
    "# generate random numbers between 10 - 20 (exclusive)\n",
    "# generate random numbers between 30 - 100 (exclusive)\n",
    "\n",
    "# using random.random()\n",
    "\n",
    "\n",
    "# bharat's solution\n",
    "\n",
    "\n",
    "print(round(random.random()*10))\n",
    "print(random.random()*20+(10))\n",
    "print(random.random()*30+(20))"
   ]
  },
  {
   "cell_type": "code",
   "execution_count": 82,
   "metadata": {},
   "outputs": [
    {
     "name": "stdout",
     "output_type": "stream",
     "text": [
      "3\n",
      "6\n",
      "4\n",
      "1\n",
      "4\n",
      "3\n",
      "5\n",
      "6\n",
      "3\n",
      "1\n",
      "5\n",
      "2\n",
      "3\n",
      "3\n",
      "6\n",
      "4\n",
      "2\n",
      "1\n",
      "4\n",
      "2\n"
     ]
    }
   ],
   "source": [
    "# miminic the functionality of dice\n",
    "\n",
    "dice = [1,2,3,4,5,6]\n",
    "coin = ['heads', 'tails']\n",
    "for i in range(20):\n",
    "    print(random.choice(dice))\n",
    "    #print(random.choice(coin))"
   ]
  },
  {
   "cell_type": "code",
   "execution_count": 91,
   "metadata": {},
   "outputs": [
    {
     "data": {
      "text/plain": [
       "7"
      ]
     },
     "execution_count": 91,
     "metadata": {},
     "output_type": "execute_result"
    }
   ],
   "source": [
    "random.randint(-100,10)"
   ]
  },
  {
   "cell_type": "code",
   "execution_count": 124,
   "metadata": {
    "scrolled": true
   },
   "outputs": [
    {
     "name": "stdout",
     "output_type": "stream",
     "text": [
      "OTP is\n",
      "8773\n",
      "enter OTP:\n"
     ]
    },
    {
     "ename": "KeyboardInterrupt",
     "evalue": "",
     "output_type": "error",
     "traceback": [
      "\u001b[0;31m---------------------------------------------------------------------------\u001b[0m",
      "\u001b[0;31mKeyboardInterrupt\u001b[0m                         Traceback (most recent call last)",
      "\u001b[0;32m~/installs/anaconda3/lib/python3.7/site-packages/ipykernel/kernelbase.py\u001b[0m in \u001b[0;36m_input_request\u001b[0;34m(self, prompt, ident, parent, password)\u001b[0m\n\u001b[1;32m    884\u001b[0m             \u001b[0;32mtry\u001b[0m\u001b[0;34m:\u001b[0m\u001b[0;34m\u001b[0m\u001b[0;34m\u001b[0m\u001b[0m\n\u001b[0;32m--> 885\u001b[0;31m                 \u001b[0mident\u001b[0m\u001b[0;34m,\u001b[0m \u001b[0mreply\u001b[0m \u001b[0;34m=\u001b[0m \u001b[0mself\u001b[0m\u001b[0;34m.\u001b[0m\u001b[0msession\u001b[0m\u001b[0;34m.\u001b[0m\u001b[0mrecv\u001b[0m\u001b[0;34m(\u001b[0m\u001b[0mself\u001b[0m\u001b[0;34m.\u001b[0m\u001b[0mstdin_socket\u001b[0m\u001b[0;34m,\u001b[0m \u001b[0;36m0\u001b[0m\u001b[0;34m)\u001b[0m\u001b[0;34m\u001b[0m\u001b[0;34m\u001b[0m\u001b[0m\n\u001b[0m\u001b[1;32m    886\u001b[0m             \u001b[0;32mexcept\u001b[0m \u001b[0mException\u001b[0m\u001b[0;34m:\u001b[0m\u001b[0;34m\u001b[0m\u001b[0;34m\u001b[0m\u001b[0m\n",
      "\u001b[0;32m~/installs/anaconda3/lib/python3.7/site-packages/jupyter_client/session.py\u001b[0m in \u001b[0;36mrecv\u001b[0;34m(self, socket, mode, content, copy)\u001b[0m\n\u001b[1;32m    802\u001b[0m         \u001b[0;32mtry\u001b[0m\u001b[0;34m:\u001b[0m\u001b[0;34m\u001b[0m\u001b[0;34m\u001b[0m\u001b[0m\n\u001b[0;32m--> 803\u001b[0;31m             \u001b[0mmsg_list\u001b[0m \u001b[0;34m=\u001b[0m \u001b[0msocket\u001b[0m\u001b[0;34m.\u001b[0m\u001b[0mrecv_multipart\u001b[0m\u001b[0;34m(\u001b[0m\u001b[0mmode\u001b[0m\u001b[0;34m,\u001b[0m \u001b[0mcopy\u001b[0m\u001b[0;34m=\u001b[0m\u001b[0mcopy\u001b[0m\u001b[0;34m)\u001b[0m\u001b[0;34m\u001b[0m\u001b[0;34m\u001b[0m\u001b[0m\n\u001b[0m\u001b[1;32m    804\u001b[0m         \u001b[0;32mexcept\u001b[0m \u001b[0mzmq\u001b[0m\u001b[0;34m.\u001b[0m\u001b[0mZMQError\u001b[0m \u001b[0;32mas\u001b[0m \u001b[0me\u001b[0m\u001b[0;34m:\u001b[0m\u001b[0;34m\u001b[0m\u001b[0;34m\u001b[0m\u001b[0m\n",
      "\u001b[0;32m~/installs/anaconda3/lib/python3.7/site-packages/zmq/sugar/socket.py\u001b[0m in \u001b[0;36mrecv_multipart\u001b[0;34m(self, flags, copy, track)\u001b[0m\n\u001b[1;32m    474\u001b[0m         \"\"\"\n\u001b[0;32m--> 475\u001b[0;31m         \u001b[0mparts\u001b[0m \u001b[0;34m=\u001b[0m \u001b[0;34m[\u001b[0m\u001b[0mself\u001b[0m\u001b[0;34m.\u001b[0m\u001b[0mrecv\u001b[0m\u001b[0;34m(\u001b[0m\u001b[0mflags\u001b[0m\u001b[0;34m,\u001b[0m \u001b[0mcopy\u001b[0m\u001b[0;34m=\u001b[0m\u001b[0mcopy\u001b[0m\u001b[0;34m,\u001b[0m \u001b[0mtrack\u001b[0m\u001b[0;34m=\u001b[0m\u001b[0mtrack\u001b[0m\u001b[0;34m)\u001b[0m\u001b[0;34m]\u001b[0m\u001b[0;34m\u001b[0m\u001b[0;34m\u001b[0m\u001b[0m\n\u001b[0m\u001b[1;32m    476\u001b[0m         \u001b[0;31m# have first part already, only loop while more to receive\u001b[0m\u001b[0;34m\u001b[0m\u001b[0;34m\u001b[0m\u001b[0;34m\u001b[0m\u001b[0m\n",
      "\u001b[0;32mzmq/backend/cython/socket.pyx\u001b[0m in \u001b[0;36mzmq.backend.cython.socket.Socket.recv\u001b[0;34m()\u001b[0m\n",
      "\u001b[0;32mzmq/backend/cython/socket.pyx\u001b[0m in \u001b[0;36mzmq.backend.cython.socket.Socket.recv\u001b[0;34m()\u001b[0m\n",
      "\u001b[0;32mzmq/backend/cython/socket.pyx\u001b[0m in \u001b[0;36mzmq.backend.cython.socket._recv_copy\u001b[0;34m()\u001b[0m\n",
      "\u001b[0;32m~/installs/anaconda3/lib/python3.7/site-packages/zmq/backend/cython/checkrc.pxd\u001b[0m in \u001b[0;36mzmq.backend.cython.checkrc._check_rc\u001b[0;34m()\u001b[0m\n",
      "\u001b[0;31mKeyboardInterrupt\u001b[0m: ",
      "\nDuring handling of the above exception, another exception occurred:\n",
      "\u001b[0;31mKeyboardInterrupt\u001b[0m                         Traceback (most recent call last)",
      "\u001b[0;32m<ipython-input-124-881183b7b5b5>\u001b[0m in \u001b[0;36m<module>\u001b[0;34m\u001b[0m\n\u001b[1;32m     15\u001b[0m     \u001b[0;32melse\u001b[0m\u001b[0;34m:\u001b[0m\u001b[0;34m\u001b[0m\u001b[0;34m\u001b[0m\u001b[0m\n\u001b[1;32m     16\u001b[0m         \u001b[0mprint\u001b[0m\u001b[0;34m(\u001b[0m\u001b[0;34m\"Show middle finger\"\u001b[0m\u001b[0;34m)\u001b[0m\u001b[0;34m\u001b[0m\u001b[0;34m\u001b[0m\u001b[0m\n\u001b[0;32m---> 17\u001b[0;31m \u001b[0motpgen\u001b[0m\u001b[0;34m(\u001b[0m\u001b[0;34m)\u001b[0m\u001b[0;34m\u001b[0m\u001b[0;34m\u001b[0m\u001b[0m\n\u001b[0m",
      "\u001b[0;32m<ipython-input-124-881183b7b5b5>\u001b[0m in \u001b[0;36motpgen\u001b[0;34m()\u001b[0m\n\u001b[1;32m     10\u001b[0m     \u001b[0mprint\u001b[0m \u001b[0;34m(\u001b[0m\u001b[0motp\u001b[0m\u001b[0;34m)\u001b[0m\u001b[0;34m\u001b[0m\u001b[0;34m\u001b[0m\u001b[0m\n\u001b[1;32m     11\u001b[0m     \u001b[0mprint\u001b[0m\u001b[0;34m(\u001b[0m\u001b[0;34m\"enter OTP:\"\u001b[0m\u001b[0;34m)\u001b[0m\u001b[0;34m\u001b[0m\u001b[0;34m\u001b[0m\u001b[0m\n\u001b[0;32m---> 12\u001b[0;31m     \u001b[0mot\u001b[0m \u001b[0;34m=\u001b[0m \u001b[0minput\u001b[0m\u001b[0;34m(\u001b[0m\u001b[0;34m)\u001b[0m\u001b[0;34m\u001b[0m\u001b[0;34m\u001b[0m\u001b[0m\n\u001b[0m\u001b[1;32m     13\u001b[0m     \u001b[0;32mif\u001b[0m \u001b[0mot\u001b[0m \u001b[0;34m==\u001b[0m \u001b[0motp\u001b[0m\u001b[0;34m:\u001b[0m\u001b[0;34m\u001b[0m\u001b[0;34m\u001b[0m\u001b[0m\n\u001b[1;32m     14\u001b[0m         \u001b[0mprint\u001b[0m\u001b[0;34m(\u001b[0m\u001b[0;34m\"Go ahead\"\u001b[0m\u001b[0;34m)\u001b[0m\u001b[0;34m\u001b[0m\u001b[0;34m\u001b[0m\u001b[0m\n",
      "\u001b[0;32m~/installs/anaconda3/lib/python3.7/site-packages/ipykernel/kernelbase.py\u001b[0m in \u001b[0;36mraw_input\u001b[0;34m(self, prompt)\u001b[0m\n\u001b[1;32m    858\u001b[0m             \u001b[0mself\u001b[0m\u001b[0;34m.\u001b[0m\u001b[0m_parent_ident\u001b[0m\u001b[0;34m,\u001b[0m\u001b[0;34m\u001b[0m\u001b[0;34m\u001b[0m\u001b[0m\n\u001b[1;32m    859\u001b[0m             \u001b[0mself\u001b[0m\u001b[0;34m.\u001b[0m\u001b[0m_parent_header\u001b[0m\u001b[0;34m,\u001b[0m\u001b[0;34m\u001b[0m\u001b[0;34m\u001b[0m\u001b[0m\n\u001b[0;32m--> 860\u001b[0;31m             \u001b[0mpassword\u001b[0m\u001b[0;34m=\u001b[0m\u001b[0;32mFalse\u001b[0m\u001b[0;34m,\u001b[0m\u001b[0;34m\u001b[0m\u001b[0;34m\u001b[0m\u001b[0m\n\u001b[0m\u001b[1;32m    861\u001b[0m         )\n\u001b[1;32m    862\u001b[0m \u001b[0;34m\u001b[0m\u001b[0m\n",
      "\u001b[0;32m~/installs/anaconda3/lib/python3.7/site-packages/ipykernel/kernelbase.py\u001b[0m in \u001b[0;36m_input_request\u001b[0;34m(self, prompt, ident, parent, password)\u001b[0m\n\u001b[1;32m    888\u001b[0m             \u001b[0;32mexcept\u001b[0m \u001b[0mKeyboardInterrupt\u001b[0m\u001b[0;34m:\u001b[0m\u001b[0;34m\u001b[0m\u001b[0;34m\u001b[0m\u001b[0m\n\u001b[1;32m    889\u001b[0m                 \u001b[0;31m# re-raise KeyboardInterrupt, to truncate traceback\u001b[0m\u001b[0;34m\u001b[0m\u001b[0;34m\u001b[0m\u001b[0;34m\u001b[0m\u001b[0m\n\u001b[0;32m--> 890\u001b[0;31m                 \u001b[0;32mraise\u001b[0m \u001b[0mKeyboardInterrupt\u001b[0m\u001b[0;34m\u001b[0m\u001b[0;34m\u001b[0m\u001b[0m\n\u001b[0m\u001b[1;32m    891\u001b[0m             \u001b[0;32melse\u001b[0m\u001b[0;34m:\u001b[0m\u001b[0;34m\u001b[0m\u001b[0;34m\u001b[0m\u001b[0m\n\u001b[1;32m    892\u001b[0m                 \u001b[0;32mbreak\u001b[0m\u001b[0;34m\u001b[0m\u001b[0;34m\u001b[0m\u001b[0m\n",
      "\u001b[0;31mKeyboardInterrupt\u001b[0m: "
     ]
    }
   ],
   "source": [
    "# Genrate a 4 digit OTP for a user and validate it \n",
    "\n",
    "import random as r\n",
    "# function for otp generation\n",
    "def otpgen():\n",
    "    otp=\"\"\n",
    "    for i in range(4):\n",
    "        otp+=str(r.randint(0,9))\n",
    "    print (\"OTP is\")\n",
    "    print (otp)\n",
    "    print(\"enter OTP:\")\n",
    "    ot = input()\n",
    "    if ot == otp:\n",
    "        print(\"Go ahead\")\n",
    "    else:\n",
    "        print(\"Show middle finger\")\n",
    "otpgen()"
   ]
  },
  {
   "cell_type": "code",
   "execution_count": 100,
   "metadata": {},
   "outputs": [
    {
     "name": "stdout",
     "output_type": "stream",
     "text": [
      "7537\n",
      "pls enter OTP\n",
      "1234\n",
      "you are a fraud\"\n"
     ]
    }
   ],
   "source": [
    "r = random.randint(0000,9999)\n",
    "print(r)\n",
    "print(\"pls enter OTP\",)\n",
    "n=int(input())\n",
    "\n",
    "if n == r:\n",
    "    print(\"verfied\")\n",
    "else:\n",
    "    print('you are a fraud\"')"
   ]
  },
  {
   "cell_type": "code",
   "execution_count": 104,
   "metadata": {},
   "outputs": [
    {
     "name": "stdout",
     "output_type": "stream",
     "text": [
      "Fails 807\n",
      "Fails 554\n",
      "Fails 472\n",
      "Fails 883\n",
      "Fails 463\n",
      "Fails 111\n",
      "Fails 973\n",
      "Fails 689\n",
      "Fails 766\n",
      "Fails 6\n",
      "Fails 421\n",
      "Fails 224\n",
      "Fails 588\n",
      "Fails 716\n",
      "Fails 882\n",
      "Fails 546\n",
      "Fails 636\n",
      "Fails 855\n",
      "Fails 759\n",
      "Fails 934\n",
      "Fails 149\n",
      "Fails 106\n",
      "Fails 335\n",
      "Fails 591\n",
      "Fails 152\n",
      "Fails 780\n",
      "Fails 260\n",
      "Fails 467\n",
      "Fails 7\n",
      "Fails 16\n",
      "Fails 578\n",
      "Fails 332\n",
      "Fails 585\n",
      "Fails 596\n",
      "Fails 787\n",
      "Fails 298\n",
      "Fails 486\n",
      "Fails 982\n",
      "Fails 226\n",
      "Fails 287\n",
      "Fails 616\n",
      "Fails 806\n",
      "Fails 152\n",
      "Fails 635\n",
      "Fails 949\n",
      "Fails 542\n",
      "Fails 932\n",
      "Fails 571\n",
      "Fails 786\n",
      "Fails 207\n",
      "Fails 534\n",
      "Fails 552\n",
      "Fails 65\n",
      "Fails 473\n",
      "Fails 284\n",
      "Fails 871\n",
      "Fails 275\n",
      "Fails 681\n",
      "Fails 426\n",
      "Fails 668\n",
      "Fails 656\n",
      "Fails 96\n",
      "Fails 762\n",
      "Fails 121\n",
      "Fails 214\n",
      "Fails 166\n",
      "Fails 375\n",
      "Fails 987\n",
      "Fails 717\n",
      "Fails 777\n",
      "Fails 207\n",
      "Fails 265\n",
      "Fails 540\n",
      "Fails 882\n",
      "Fails 155\n",
      "Fails 912\n",
      "Fails 191\n",
      "Fails 702\n",
      "Fails 231\n",
      "Fails 957\n",
      "Fails 649\n",
      "Fails 781\n",
      "Fails 47\n",
      "Fails 409\n",
      "Fails 370\n",
      "Fails 302\n",
      "Fails 841\n",
      "Fails 231\n",
      "Fails 690\n",
      "Fails 242\n",
      "Fails 310\n",
      "Fails 515\n",
      "Fails 733\n",
      "Fails 664\n",
      "Fails 823\n",
      "Fails 391\n",
      "Fails 559\n",
      "Fails 959\n",
      "Fails 350\n",
      "Fails 659\n",
      "Fails 188\n",
      "Fails 389\n",
      "Fails 852\n",
      "Fails 612\n",
      "Fails 231\n",
      "Fails 262\n",
      "Fails 932\n",
      "Fails 858\n",
      "Fails 51\n",
      "Fails 571\n",
      "Fails 64\n",
      "Fails 572\n",
      "Fails 365\n",
      "Fails 45\n",
      "Fails 957\n",
      "Fails 704\n",
      "Fails 391\n",
      "Fails 662\n",
      "Fails 586\n",
      "Fails 509\n",
      "Fails 547\n",
      "Fails 343\n",
      "Fails 639\n",
      "Fails 590\n",
      "Fails 904\n",
      "Fails 472\n",
      "Fails 54\n",
      "Fails 950\n",
      "Fails 63\n",
      "Fails 130\n",
      "Fails 27\n",
      "Fails 118\n",
      "Fails 550\n",
      "Fails 328\n",
      "Fails 488\n",
      "Fails 990\n",
      "Fails 968\n",
      "Fails 620\n",
      "Fails 571\n",
      "Fails 46\n",
      "Fails 652\n",
      "Fails 415\n",
      "Fails 205\n",
      "Fails 651\n",
      "Fails 934\n",
      "Fails 62\n",
      "Fails 621\n",
      "Fails 329\n",
      "Fails 999\n",
      "Fails 589\n",
      "Fails 784\n",
      "Fails 79\n",
      "Fails 991\n",
      "Fails 491\n",
      "Fails 706\n",
      "Fails 146\n",
      "Fails 208\n",
      "Fails 901\n",
      "Fails 419\n",
      "Fails 907\n",
      "Fails 970\n",
      "Fails 841\n",
      "Fails 102\n",
      "Fails 731\n",
      "Fails 490\n",
      "Fails 668\n",
      "Fails 550\n",
      "Fails 852\n",
      "Fails 808\n",
      "Fails 525\n",
      "Fails 531\n",
      "Fails 242\n",
      "Fails 442\n",
      "Fails 484\n",
      "Fails 425\n",
      "Fails 189\n",
      "Fails 617\n",
      "Fails 73\n",
      "Fails 330\n",
      "Fails 159\n",
      "Fails 609\n",
      "Fails 99\n",
      "Fails 290\n",
      "Fails 862\n",
      "Fails 922\n",
      "Fails 306\n",
      "Fails 924\n",
      "Fails 95\n",
      "Fails 318\n",
      "Fails 928\n",
      "Fails 368\n",
      "Fails 179\n",
      "Fails 745\n",
      "Fails 123\n",
      "Fails 685\n",
      "Fails 138\n",
      "Fails 635\n",
      "Fails 624\n",
      "Fails 927\n",
      "Fails 967\n",
      "Fails 715\n",
      "Fails 81\n",
      "Fails 832\n",
      "Fails 261\n",
      "Fails 139\n",
      "Fails 932\n",
      "Fails 461\n",
      "Fails 549\n",
      "Fails 508\n",
      "Fails 916\n",
      "Fails 401\n",
      "Fails 255\n",
      "Fails 124\n",
      "Fails 882\n",
      "Fails 127\n",
      "Fails 57\n",
      "Fails 240\n",
      "Fails 119\n",
      "Fails 47\n",
      "Fails 148\n",
      "Fails 414\n",
      "Fails 809\n",
      "Fails 490\n",
      "Fails 765\n",
      "Fails 831\n",
      "Fails 978\n",
      "Fails 78\n",
      "Fails 588\n",
      "Fails 272\n",
      "Fails 32\n",
      "Fails 404\n",
      "Fails 798\n",
      "Fails 119\n",
      "Fails 252\n",
      "Fails 803\n",
      "Fails 956\n",
      "Fails 420\n",
      "Fails 200\n",
      "Fails 600\n",
      "Fails 729\n",
      "Fails 994\n",
      "Fails 400\n",
      "Fails 995\n",
      "Fails 856\n",
      "Fails 956\n",
      "Fails 260\n",
      "Fails 161\n",
      "Fails 911\n",
      "Fails 844\n",
      "Fails 663\n",
      "Fails 360\n",
      "Fails 49\n",
      "Fails 430\n",
      "Fails 693\n",
      "Fails 32\n",
      "Fails 585\n",
      "Fails 102\n",
      "Fails 475\n",
      "Fails 570\n",
      "Fails 876\n",
      "Fails 780\n",
      "Fails 334\n",
      "Fails 463\n",
      "Fails 941\n",
      "Fails 840\n",
      "Fails 646\n",
      "Fails 155\n",
      "Fails 151\n",
      "Fails 629\n",
      "Fails 675\n",
      "Fails 655\n",
      "Fails 680\n",
      "Fails 859\n",
      "Fails 378\n",
      "Fails 303\n",
      "Fails 600\n",
      "Fails 213\n",
      "Fails 57\n",
      "Fails 862\n",
      "Fails 178\n",
      "Fails 497\n",
      "Fails 833\n",
      "Fails 883\n",
      "Fails 200\n",
      "Fails 320\n",
      "Fails 427\n",
      "Fails 792\n",
      "Fails 259\n",
      "Fails 321\n",
      "Fails 826\n",
      "Fails 632\n",
      "Fails 753\n",
      "Fails 26\n",
      "Fails 973\n",
      "Fails 702\n",
      "Fails 30\n",
      "Fails 13\n",
      "Fails 713\n",
      "Fails 303\n",
      "Fails 803\n",
      "Fails 960\n",
      "Fails 251\n",
      "Fails 993\n",
      "Fails 797\n",
      "Fails 240\n",
      "Fails 349\n",
      "Fails 501\n",
      "Fails 197\n",
      "Fails 252\n",
      "Fails 973\n",
      "Fails 403\n",
      "Fails 465\n",
      "Fails 366\n",
      "Fails 167\n",
      "Fails 300\n",
      "Fails 924\n",
      "Fails 930\n",
      "Fails 21\n",
      "Fails 944\n",
      "Fails 417\n",
      "Fails 293\n",
      "Fails 60\n",
      "Fails 637\n",
      "Fails 469\n",
      "Fails 911\n",
      "Fails 706\n",
      "Fails 465\n",
      "Fails 645\n",
      "Fails 969\n",
      "Fails 495\n",
      "Fails 172\n",
      "Fails 263\n",
      "Fails 681\n",
      "Fails 26\n",
      "Fails 389\n",
      "Fails 746\n",
      "Fails 682\n",
      "Fails 494\n",
      "Fails 91\n",
      "Fails 152\n",
      "Fails 321\n",
      "Fails 229\n",
      "Fails 75\n",
      "Fails 309\n",
      "Fails 676\n",
      "Fails 604\n",
      "Fails 259\n",
      "Fails 238\n",
      "Fails 584\n",
      "Fails 594\n",
      "Fails 585\n",
      "Fails 567\n",
      "Fails 726\n",
      "Fails 878\n",
      "Fails 349\n",
      "Fails 248\n",
      "Fails 909\n",
      "Fails 827\n",
      "Fails 21\n",
      "Fails 201\n",
      "Fails 152\n",
      "Fails 822\n",
      "Fails 155\n",
      "Fails 232\n",
      "Fails 394\n",
      "Fails 646\n",
      "Fails 814\n",
      "Fails 997\n",
      "Fails 377\n",
      "Fails 79\n",
      "Fails 17\n",
      "Fails 583\n",
      "Fails 700\n",
      "Fails 716\n",
      "Fails 537\n",
      "Fails 298\n",
      "Fails 537\n",
      "Fails 246\n",
      "Fails 253\n",
      "Fails 776\n",
      "Fails 83\n",
      "Fails 827\n",
      "Fails 732\n",
      "Fails 65\n",
      "Fails 623\n",
      "Fails 214\n",
      "Fails 511\n",
      "Fails 998\n",
      "Fails 358\n",
      "Fails 193\n",
      "Fails 422\n",
      "Fails 201\n",
      "Fails 394\n",
      "Fails 103\n",
      "Fails 556\n",
      "Fails 990\n",
      "Fails 240\n",
      "Fails 131\n",
      "Fails 161\n",
      "Fails 386\n",
      "Fails 708\n",
      "Fails 420\n",
      "Fails 856\n",
      "Fails 574\n",
      "Fails 620\n",
      "Fails 782\n",
      "Fails 218\n",
      "Fails 749\n",
      "Fails 19\n",
      "Fails 902\n",
      "Fails 2\n",
      "Fails 687\n",
      "Fails 631\n",
      "Fails 994\n",
      "Fails 313\n",
      "Fails 625\n",
      "Fails 45\n",
      "Fails 200\n",
      "Fails 207\n",
      "Fails 4\n",
      "Fails 984\n",
      "Fails 132\n",
      "Fails 156\n",
      "Fails 470\n",
      "Fails 953\n",
      "Fails 345\n",
      "Fails 895\n",
      "Fails 0\n",
      "Fails 539\n",
      "Fails 355\n",
      "Fails 878\n",
      "Fails 35\n",
      "Fails 52\n",
      "Fails 969\n",
      "Fails 219\n",
      "Fails 910\n",
      "Fails 664\n",
      "Fails 946\n",
      "Fails 752\n",
      "Fails 832\n",
      "Fails 69\n",
      "Fails 493\n",
      "Fails 347\n",
      "Fails 269\n",
      "Fails 590\n",
      "Fails 24\n",
      "Fails 156\n",
      "Fails 593\n",
      "Fails 870\n",
      "Fails 442\n",
      "Fails 193\n",
      "Fails 620\n",
      "Fails 608\n",
      "Fails 760\n",
      "Fails 287\n",
      "Fails 564\n",
      "Fails 310\n",
      "Fails 373\n",
      "Fails 446\n",
      "Fails 778\n",
      "Fails 595\n",
      "Fails 202\n",
      "Fails 21\n",
      "Fails 60\n",
      "Fails 774\n",
      "Fails 415\n",
      "Fails 338\n",
      "Fails 187\n",
      "Fails 596\n",
      "Fails 559\n",
      "Fails 775\n",
      "Fails 465\n",
      "Fails 61\n",
      "Fails 114\n",
      "Fails 920\n",
      "Fails 420\n",
      "Fails 534\n",
      "Fails 312\n",
      "Fails 20\n",
      "Fails 567\n",
      "Fails 167\n",
      "Fails 90\n",
      "Fails 352\n",
      "Fails 718\n",
      "Fails 434\n",
      "Fails 327\n",
      "Fails 34\n",
      "Fails 702\n",
      "Fails 648\n",
      "Fails 523\n",
      "Fails 285\n",
      "Fails 60\n",
      "Fails 391\n",
      "Fails 960\n",
      "Fails 644\n",
      "Fails 944\n",
      "Fails 188\n",
      "Fails 146\n",
      "Fails 995\n",
      "Fails 324\n",
      "Fails 654\n",
      "Fails 599\n",
      "Fails 58\n",
      "Fails 158\n",
      "Fails 540\n",
      "Fails 803\n",
      "Fails 946\n",
      "Fails 33\n",
      "Fails 192\n",
      "Fails 667\n",
      "Fails 170\n",
      "Fails 388\n",
      "Fails 832\n",
      "Fails 416\n",
      "Fails 136\n",
      "Fails 315\n",
      "Fails 466\n",
      "Fails 371\n",
      "Fails 178\n",
      "Fails 909\n",
      "Fails 886\n",
      "Fails 154\n",
      "Fails 718\n",
      "Fails 707\n",
      "Fails 169\n",
      "Fails 474\n",
      "Fails 981\n",
      "Fails 179\n",
      "Fails 88\n",
      "Fails 244\n",
      "Fails 888\n",
      "Fails 28\n",
      "Fails 495\n",
      "Fails 358\n",
      "Fails 303\n",
      "Fails 309\n",
      "Fails 8\n",
      "Fails 426\n",
      "Fails 275\n",
      "Fails 954\n",
      "Fails 527\n",
      "Fails 855\n",
      "Fails 85\n",
      "Fails 0\n",
      "Fails 358\n",
      "Fails 988\n",
      "Fails 896\n",
      "Fails 497\n",
      "Fails 639\n",
      "Fails 566\n",
      "Fails 653\n",
      "Fails 957\n",
      "Fails 6\n",
      "Fails 128\n",
      "Fails 567\n",
      "Fails 491\n",
      "Fails 405\n",
      "Fails 160\n",
      "Fails 504\n",
      "Fails 205\n",
      "Fails 366\n",
      "Fails 274\n",
      "Fails 845\n",
      "Fails 194\n",
      "Fails 477\n",
      "Fails 981\n",
      "Fails 371\n",
      "Fails 649\n",
      "Fails 674\n",
      "Fails 518\n",
      "Fails 969\n",
      "Fails 291\n",
      "Fails 240\n",
      "Fails 244\n",
      "Fails 796\n",
      "Fails 570\n",
      "Fails 541\n",
      "Fails 908\n",
      "Fails 503\n",
      "Fails 206\n",
      "Fails 645\n",
      "Fails 900\n",
      "Fails 461\n",
      "Fails 779\n",
      "Fails 822\n",
      "Fails 604\n",
      "Fails 472\n",
      "Fails 655\n",
      "Fails 545\n",
      "Fails 590\n",
      "Fails 905\n",
      "Fails 988\n",
      "Fails 681\n",
      "Fails 230\n",
      "Fails 625\n",
      "Fails 880\n",
      "Fails 158\n",
      "Fails 378\n",
      "Fails 313\n",
      "Fails 28\n",
      "Fails 452\n",
      "Fails 283\n",
      "Fails 845\n",
      "Fails 715\n",
      "Fails 976\n",
      "Fails 420\n",
      "Fails 111\n",
      "Fails 259\n",
      "Fails 825\n",
      "Fails 757\n",
      "Fails 369\n",
      "Fails 685\n",
      "Fails 343\n",
      "Fails 602\n",
      "Fails 530\n",
      "Fails 775\n",
      "Fails 576\n",
      "Fails 709\n",
      "Fails 428\n",
      "Fails 718\n",
      "Fails 139\n",
      "Fails 127\n",
      "Fails 755\n",
      "Fails 738\n",
      "Fails 564\n",
      "Fails 931\n",
      "Fails 244\n",
      "Fails 711\n",
      "Fails 889\n",
      "Fails 381\n",
      "Fails 676\n",
      "Fails 741\n",
      "Fails 456\n",
      "Fails 849\n",
      "Fails 931\n",
      "Fails 210\n",
      "Fails 82\n",
      "Fails 43\n",
      "Fails 322\n",
      "Fails 975\n",
      "Fails 668\n",
      "Fails 974\n",
      "Fails 700\n",
      "Fails 709\n",
      "Fails 125\n",
      "Fails 80\n",
      "Fails 749\n",
      "Fails 795\n",
      "Fails 487\n",
      "Fails 526\n",
      "Fails 341\n",
      "Fails 9\n",
      "Fails 998\n",
      "Fails 830\n",
      "Fails 527\n",
      "Fails 12\n",
      "Fails 217\n",
      "Fails 873\n",
      "Fails 226\n",
      "Fails 205\n",
      "Fails 592\n",
      "Fails 229\n",
      "Fails 903\n",
      "Fails 423\n",
      "Fails 510\n",
      "Fails 858\n",
      "Fails 39\n",
      "Fails 618\n",
      "Fails 872\n",
      "Fails 283\n",
      "Fails 232\n",
      "Fails 990\n",
      "Fails 450\n",
      "Fails 20\n",
      "Fails 47\n",
      "Fails 479\n",
      "Fails 894\n",
      "Fails 40\n",
      "Fails 536\n",
      "Fails 985\n",
      "Fails 130\n",
      "Fails 288\n",
      "Fails 11\n",
      "Fails 819\n",
      "Fails 674\n",
      "Fails 433\n",
      "Fails 826\n",
      "Fails 970\n",
      "Fails 155\n",
      "Fails 781\n",
      "Fails 5\n",
      "Fails 354\n",
      "Fails 817\n",
      "Fails 443\n",
      "Fails 148\n",
      "Fails 333\n",
      "Fails 984\n",
      "Fails 241\n",
      "Fails 524\n",
      "Fails 816\n",
      "Fails 875\n",
      "Fails 429\n",
      "Fails 8\n",
      "Fails 201\n",
      "Fails 131\n",
      "Fails 493\n",
      "Fails 343\n",
      "Fails 808\n",
      "Fails 396\n",
      "Fails 605\n",
      "Fails 76\n",
      "Fails 5\n",
      "Fails 276\n",
      "Fails 899\n",
      "Fails 545\n",
      "Fails 962\n",
      "Fails 158\n",
      "Fails 285\n",
      "Fails 965\n",
      "Fails 489\n",
      "Fails 165\n",
      "Fails 194\n",
      "Fails 733\n",
      "Fails 823\n",
      "Fails 890\n",
      "Fails 570\n",
      "Fails 510\n",
      "Fails 261\n",
      "Fails 188\n",
      "Fails 631\n",
      "Fails 439\n",
      "Fails 843\n",
      "Fails 745\n",
      "Fails 356\n",
      "Fails 398\n",
      "Fails 679\n",
      "Fails 335\n",
      "Fails 88\n",
      "Fails 342\n",
      "Fails 765\n",
      "Fails 20\n",
      "Fails 79\n",
      "Fails 292\n",
      "Fails 282\n",
      "Fails 335\n",
      "Fails 23\n",
      "Fails 319\n",
      "Fails 958\n",
      "Fails 767\n",
      "Fails 393\n",
      "Fails 267\n",
      "Fails 425\n",
      "Fails 443\n",
      "Fails 955\n",
      "Fails 611\n",
      "Fails 526\n",
      "Fails 984\n",
      "Fails 79\n",
      "Fails 406\n",
      "Fails 485\n",
      "Fails 484\n",
      "Fails 710\n",
      "Fails 175\n",
      "Fails 782\n",
      "Fails 594\n",
      "Fails 776\n",
      "Fails 315\n",
      "Fails 240\n",
      "Fails 674\n",
      "Fails 83\n",
      "Fails 967\n",
      "Fails 603\n",
      "Fails 414\n",
      "Fails 954\n",
      "Fails 992\n",
      "Fails 710\n",
      "Fails 25\n",
      "Fails 425\n",
      "Fails 971\n",
      "Fails 208\n",
      "Fails 288\n",
      "Fails 245\n",
      "Fails 457\n",
      "Fails 307\n",
      "Fails 984\n",
      "Fails 381\n",
      "Fails 360\n",
      "Fails 48\n",
      "Fails 717\n",
      "Fails 300\n",
      "Fails 369\n",
      "Fails 566\n",
      "Fails 718\n",
      "Fails 637\n",
      "Fails 974\n",
      "Fails 332\n",
      "Fails 910\n",
      "Fails 619\n",
      "Fails 941\n",
      "Fails 787\n",
      "Fails 489\n",
      "Fails 129\n",
      "Fails 245\n",
      "Fails 3\n",
      "Fails 495\n",
      "Fails 994\n",
      "Fails 476\n",
      "Fails 963\n",
      "Fails 929\n",
      "Fails 396\n",
      "Fails 241\n",
      "Fails 47\n",
      "Fails 255\n",
      "Fails 835\n",
      "Fails 546\n",
      "Fails 836\n",
      "Fails 710\n",
      "Fails 381\n",
      "Fails 57\n",
      "Fails 868\n",
      "Fails 535\n",
      "Fails 179\n",
      "Fails 172\n",
      "Fails 676\n",
      "Fails 374\n",
      "Fails 347\n",
      "Fails 526\n",
      "Fails 863\n",
      "Fails 109\n",
      "Fails 546\n",
      "Fails 574\n",
      "Fails 780\n",
      "Fails 122\n",
      "Fails 834\n",
      "Fails 753\n",
      "Fails 197\n",
      "Fails 14\n",
      "Fails 278\n",
      "Fails 604\n",
      "Fails 607\n",
      "Fails 706\n",
      "Fails 444\n",
      "Fails 235\n",
      "Fails 54\n",
      "Fails 496\n",
      "Fails 98\n",
      "Fails 477\n",
      "Fails 981\n",
      "Fails 988\n",
      "Fails 157\n",
      "Fails 6\n",
      "Fails 541\n",
      "Fails 689\n",
      "Fails 643\n",
      "Fails 285\n",
      "Fails 439\n",
      "Fails 570\n",
      "Fails 936\n",
      "Fails 918\n",
      "Fails 957\n",
      "Fails 18\n",
      "Fails 513\n",
      "Fails 229\n",
      "Fails 464\n",
      "Fails 154\n",
      "Fails 54\n",
      "Fails 285\n",
      "Fails 894\n",
      "Fails 37\n",
      "Fails 274\n",
      "Fails 494\n",
      "Fails 429\n",
      "Fails 407\n",
      "Fails 277\n",
      "Fails 513\n",
      "Fails 302\n",
      "Fails 390\n",
      "Fails 50\n",
      "Fails 749\n",
      "Fails 767\n",
      "Fails 826\n",
      "Fails 837\n",
      "Fails 352\n",
      "Fails 151\n",
      "Fails 229\n",
      "Fails 950\n",
      "Fails 288\n",
      "Fails 211\n",
      "Fails 711\n",
      "Fails 85\n",
      "Fails 645\n",
      "Fails 335\n",
      "Fails 545\n",
      "Fails 888\n",
      "Fails 894\n",
      "Fails 749\n",
      "Fails 876\n",
      "Fails 67\n",
      "Fails 909\n",
      "Fails 740\n",
      "Fails 138\n",
      "Fails 93\n",
      "Fails 692\n",
      "Fails 556\n",
      "Fails 857\n",
      "Fails 673\n",
      "Fails 201\n",
      "Fails 334\n",
      "Fails 959\n",
      "Fails 789\n",
      "Fails 192\n",
      "Fails 146\n",
      "Fails 295\n",
      "Fails 463\n",
      "Fails 148\n",
      "Fails 94\n",
      "Fails 228\n",
      "Fails 595\n",
      "Fails 371\n",
      "Fails 712\n",
      "Fails 983\n",
      "Fails 609\n",
      "Fails 373\n",
      "Fails 969\n",
      "Fails 651\n",
      "Fails 358\n",
      "Fails 443\n",
      "Fails 500\n",
      "Fails 728\n",
      "Fails 81\n",
      "Fails 401\n",
      "Fails 244\n",
      "Fails 194\n",
      "Fails 605\n",
      "Fails 523\n",
      "Fails 379\n",
      "Fails 769\n",
      "Fails 418\n",
      "Fails 972\n",
      "Fails 838\n",
      "Fails 195\n",
      "Fails 300\n",
      "Fails 828\n",
      "Fails 926\n",
      "Fails 300\n",
      "Fails 922\n",
      "Fails 296\n",
      "Fails 947\n",
      "Fails 330\n",
      "Fails 48\n",
      "Fails 331\n",
      "Fails 860\n",
      "Fails 766\n",
      "Fails 414\n",
      "Fails 243\n",
      "Fails 479\n",
      "Fails 222\n",
      "Fails 436\n",
      "Fails 807\n",
      "Fails 697\n",
      "Fails 688\n",
      "Fails 663\n",
      "Fails 651\n",
      "Fails 963\n",
      "Fails 630\n",
      "Fails 272\n",
      "Fails 142\n",
      "Fails 946\n",
      "Fails 661\n",
      "Fails 96\n",
      "Fails 388\n",
      "Fails 917\n",
      "Fails 27\n",
      "Fails 355\n",
      "Fails 332\n",
      "Fails 432\n",
      "Fails 26\n",
      "Fails 475\n",
      "Fails 416\n",
      "Fails 72\n",
      "Fails 70\n",
      "Fails 506\n",
      "Fails 634\n",
      "Fails 413\n",
      "Fails 209\n",
      "Fails 378\n",
      "Fails 595\n",
      "Fails 91\n",
      "Fails 847\n",
      "Fails 442\n",
      "Fails 563\n",
      "Fails 908\n",
      "Fails 479\n",
      "Fails 975\n",
      "994\n"
     ]
    }
   ],
   "source": [
    "times = 0\n",
    "for i in range(10000):\n",
    "    n = random.randint(0000,9999)\n",
    "    if len(str(n)) < 4:\n",
    "        print(\"Fails\", n)\n",
    "        times +=1\n",
    "print(times)"
   ]
  },
  {
   "cell_type": "code",
   "execution_count": 120,
   "metadata": {},
   "outputs": [
    {
     "data": {
      "text/plain": [
       "2867"
      ]
     },
     "execution_count": 120,
     "metadata": {},
     "output_type": "execute_result"
    }
   ],
   "source": [
    "round(random.random()*10000)"
   ]
  },
  {
   "cell_type": "code",
   "execution_count": 122,
   "metadata": {},
   "outputs": [
    {
     "name": "stdout",
     "output_type": "stream",
     "text": [
      "7299\n",
      "Enter OTP1234\n",
      "false\n"
     ]
    }
   ],
   "source": [
    "OTP=[]\n",
    "gen=random.randint(1000,9999)\n",
    "print(gen)\n",
    "OTP.append(gen)\n",
    "n=int(input(\"Enter OTP\"))\n",
    "if n in OTP:\n",
    "    print(\"true\")\n",
    "else:\n",
    "    print(\"false\")"
   ]
  },
  {
   "cell_type": "code",
   "execution_count": 131,
   "metadata": {},
   "outputs": [
    {
     "name": "stdout",
     "output_type": "stream",
     "text": [
      "Please enter your search keywords: ratyanash\n"
     ]
    },
    {
     "data": {
      "text/plain": [
       "True"
      ]
     },
     "execution_count": 131,
     "metadata": {},
     "output_type": "execute_result"
    }
   ],
   "source": [
    "# web - browser module\n",
    "\n",
    "import webbrowser\n",
    "search = input(\"Please enter your search keywords: \")\n",
    "\n",
    "search = 'https://www.google.com/search?q='+search\n",
    "\n",
    "webbrowser.open_new_tab(search)\n"
   ]
  },
  {
   "cell_type": "markdown",
   "metadata": {},
   "source": [
    "# OOPS"
   ]
  },
  {
   "cell_type": "code",
   "execution_count": 1,
   "metadata": {},
   "outputs": [],
   "source": [
    "class MyClass:\n",
    "    x = 2"
   ]
  },
  {
   "cell_type": "code",
   "execution_count": 4,
   "metadata": {},
   "outputs": [],
   "source": [
    "obj = MyClass()\n",
    "obj1 = MyClass()"
   ]
  },
  {
   "cell_type": "code",
   "execution_count": 16,
   "metadata": {},
   "outputs": [
    {
     "ename": "TypeError",
     "evalue": "fun() takes 0 positional arguments but 1 was given",
     "output_type": "error",
     "traceback": [
      "\u001b[0;31m---------------------------------------------------------------------------\u001b[0m",
      "\u001b[0;31mTypeError\u001b[0m                                 Traceback (most recent call last)",
      "\u001b[0;32m<ipython-input-16-77d407bd7fd0>\u001b[0m in \u001b[0;36m<module>\u001b[0;34m\u001b[0m\n\u001b[1;32m     11\u001b[0m \u001b[0mcoco\u001b[0m \u001b[0;34m=\u001b[0m \u001b[0mDog\u001b[0m\u001b[0;34m(\u001b[0m\u001b[0;34m)\u001b[0m\u001b[0;34m\u001b[0m\u001b[0;34m\u001b[0m\u001b[0m\n\u001b[1;32m     12\u001b[0m \u001b[0;34m\u001b[0m\u001b[0m\n\u001b[0;32m---> 13\u001b[0;31m \u001b[0mcoco\u001b[0m\u001b[0;34m.\u001b[0m\u001b[0mfun\u001b[0m\u001b[0;34m(\u001b[0m\u001b[0;34m)\u001b[0m\u001b[0;34m\u001b[0m\u001b[0;34m\u001b[0m\u001b[0m\n\u001b[0m\u001b[1;32m     14\u001b[0m \u001b[0;34m\u001b[0m\u001b[0m\n\u001b[1;32m     15\u001b[0m \u001b[0mcoco\u001b[0m\u001b[0;34m.\u001b[0m\u001b[0mattr2\u001b[0m\u001b[0;34m\u001b[0m\u001b[0;34m\u001b[0m\u001b[0m\n",
      "\u001b[0;31mTypeError\u001b[0m: fun() takes 0 positional arguments but 1 was given"
     ]
    }
   ],
   "source": [
    "class Dog:\n",
    "    \n",
    "    attr1 = 'mammal'\n",
    "    attr2 = 'dog'\n",
    "    \n",
    "    def fun():\n",
    "        print(\"I'm a : \", self.attr1)\n",
    "        print(\"I'm a : \", self.attr2)\n",
    "        \n",
    "\n",
    "coco = Dog()\n",
    "\n",
    "coco.fun()\n",
    "\n",
    "coco.attr2"
   ]
  },
  {
   "cell_type": "code",
   "execution_count": 24,
   "metadata": {},
   "outputs": [],
   "source": [
    "class Dog:\n",
    "    def __init__(self, x, y, z, p):\n",
    "        self.breed = x\n",
    "        self.color = y\n",
    "        self.height = z\n",
    "        self.sound = p\n",
    "        \n",
    "    def bark(self):\n",
    "        print(self.sound)\n",
    "        \n",
    "    def run(self):\n",
    "        print(\"I'm running\")\n",
    "        \n",
    "    def tell_breed(self):\n",
    "        print(\"My breed is: \", self.breed)\n",
    "        \n",
    "        "
   ]
  },
  {
   "cell_type": "code",
   "execution_count": 26,
   "metadata": {},
   "outputs": [],
   "source": [
    "dog1 = Dog(\"doberman\", \"black\", 3, \"Whooff!!\")"
   ]
  },
  {
   "cell_type": "code",
   "execution_count": 31,
   "metadata": {},
   "outputs": [
    {
     "name": "stdout",
     "output_type": "stream",
     "text": [
      "My breed is:  Rott\n",
      "huuff!!\n",
      "I'm running\n"
     ]
    }
   ],
   "source": [
    "dog1.tell_breed()\n",
    "dog1.bark()\n",
    "dog1.run()"
   ]
  },
  {
   "cell_type": "code",
   "execution_count": 32,
   "metadata": {},
   "outputs": [
    {
     "name": "stdout",
     "output_type": "stream",
     "text": [
      "My breed is:  Rott\n",
      "huuff!!\n",
      "I'm running\n"
     ]
    }
   ],
   "source": [
    "dog2 = Dog(\"Rott\", \"white\", 4, \"huuff!!\")\n",
    "dog2.tell_breed()\n",
    "dog2.bark()\n",
    "dog2.run()"
   ]
  },
  {
   "cell_type": "code",
   "execution_count": null,
   "metadata": {},
   "outputs": [],
   "source": []
  }
 ],
 "metadata": {
  "kernelspec": {
   "display_name": "Python 3",
   "language": "python",
   "name": "python3"
  },
  "language_info": {
   "codemirror_mode": {
    "name": "ipython",
    "version": 3
   },
   "file_extension": ".py",
   "mimetype": "text/x-python",
   "name": "python",
   "nbconvert_exporter": "python",
   "pygments_lexer": "ipython3",
   "version": "3.7.4"
  }
 },
 "nbformat": 4,
 "nbformat_minor": 2
}
